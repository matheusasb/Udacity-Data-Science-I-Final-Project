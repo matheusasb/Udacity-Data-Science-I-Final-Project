{
 "cells": [
  {
   "cell_type": "markdown",
   "metadata": {},
   "source": [
    "# FDS I - Projeto Final: Titanic\n",
    "## Aluno: Matheus Antônio Scussel Borges\n",
    "\n",
    "![Titanic partindo do porto de Southampton](titanic.jpg)\n",
    "\n",
    "\n",
    "\n",
    "### Introdução\n",
    "\n",
    "No processo de análise de dados do projeto Titanic foi utilizado um banco de dados em formato \".csv\" provido por este desafio do [Kaggle.](https://www.kaggle.com/c/titanic/data)\n",
    "\n",
    "O Titanic foi um grande navio do começo do século XX famoso por ter sido considerado como o mais luxuoso e mais seguro de sua época, gerando lendas que diziam que eram impossível de ser afundado. Fato que infelizmente a história se comprovou ao contrário ao naufragar colidindo com um iceberg e causando grande perda humana."
   ]
  },
  {
   "cell_type": "markdown",
   "metadata": {},
   "source": [
    "### Metodologia\n",
    "\n",
    "A metodologia utilizada nesse projeto foi a apresentada nesse curso sendo dividida nas seguintes etapas:\n",
    "\n",
    "Etapa | Descrição\n",
    "------------ | ------------\n",
    "1 | Fazer perguntas - Hipóteses\n",
    "2 | Limpar os dados\n",
    "3 | Realizar a análise exploratória de dados\n",
    "4 | Tirar conclusões\n",
    "5 | Comunicar os resultados\n",
    "\n",
    "Além disso, buscou-se ao máximo possível utilizar storytelling para comunicar as informações."
   ]
  },
  {
   "cell_type": "markdown",
   "metadata": {},
   "source": [
    "### Objetivo:\n",
    "Iremos realizar um estudo desses dados, e identificar quais são os fatores com suas respectivas variáveis que levaram ou não, a uma maior influência na mortalidade das pessoas envolvidas no acidente."
   ]
  },
  {
   "cell_type": "markdown",
   "metadata": {},
   "source": [
    "#### Libraries utilizadas no projeto"
   ]
  },
  {
   "cell_type": "code",
   "execution_count": 249,
   "metadata": {},
   "outputs": [],
   "source": [
    "# Importando as libraries utilizadas no estudo:\n",
    "import pandas as pd\n",
    "import numpy as np\n",
    "import matplotlib.pyplot as plt\n",
    "%matplotlib inline "
   ]
  },
  {
   "cell_type": "markdown",
   "metadata": {},
   "source": [
    "### Banco de dados Titanic\n",
    "\n",
    "Como veremos logo abaixo, dos 2.224 passageiros, o banco da dados em estudo possui dados de **891** passageiros, sendo esse o número de nossas *samples* inicial.\n",
    "\n",
    "Além disso, possuimos **12** colunas representando os tipos diferentes de dados, sendo elas nossas *features*:\n",
    "\n",
    "Index | Features | Significados\n",
    "------------ | ------------ | -------------\n",
    "1 | PassengerId | Id do Passageiro\n",
    "2 | Survived | Se sobreviveu ou não (1,0)\n",
    "3 | Pclass | Classe (1,2,3)\n",
    "4 | Name | Nome\n",
    "5 | Sex | Gênero\n",
    "6 | Age | Idade\n",
    "7 | SibSp | Número de Irmãos/Cônjuges no navio\n",
    "8 | Parch | Número de parentes no navio\n",
    "9 | Ticket | Número do ticket\n",
    "10 | Fare | Preço da passagem\n",
    "11 | Cabin | Número da cabine\n",
    "12 | Embarked | Porto de origem (C,Q,S)"
   ]
  },
  {
   "cell_type": "code",
   "execution_count": 373,
   "metadata": {},
   "outputs": [
    {
     "data": {
      "text/html": [
       "<div>\n",
       "<style scoped>\n",
       "    .dataframe tbody tr th:only-of-type {\n",
       "        vertical-align: middle;\n",
       "    }\n",
       "\n",
       "    .dataframe tbody tr th {\n",
       "        vertical-align: top;\n",
       "    }\n",
       "\n",
       "    .dataframe thead th {\n",
       "        text-align: right;\n",
       "    }\n",
       "</style>\n",
       "<table border=\"1\" class=\"dataframe\">\n",
       "  <thead>\n",
       "    <tr style=\"text-align: right;\">\n",
       "      <th></th>\n",
       "      <th>PassengerId</th>\n",
       "      <th>Survived</th>\n",
       "      <th>Pclass</th>\n",
       "      <th>Name</th>\n",
       "      <th>Sex</th>\n",
       "      <th>Age</th>\n",
       "      <th>SibSp</th>\n",
       "      <th>Parch</th>\n",
       "      <th>Ticket</th>\n",
       "      <th>Fare</th>\n",
       "      <th>Cabin</th>\n",
       "      <th>Embarked</th>\n",
       "    </tr>\n",
       "  </thead>\n",
       "  <tbody>\n",
       "    <tr>\n",
       "      <th>0</th>\n",
       "      <td>1</td>\n",
       "      <td>0</td>\n",
       "      <td>3</td>\n",
       "      <td>Braund, Mr. Owen Harris</td>\n",
       "      <td>male</td>\n",
       "      <td>22.0</td>\n",
       "      <td>1</td>\n",
       "      <td>0</td>\n",
       "      <td>A/5 21171</td>\n",
       "      <td>7.2500</td>\n",
       "      <td>NaN</td>\n",
       "      <td>S</td>\n",
       "    </tr>\n",
       "    <tr>\n",
       "      <th>1</th>\n",
       "      <td>2</td>\n",
       "      <td>1</td>\n",
       "      <td>1</td>\n",
       "      <td>Cumings, Mrs. John Bradley (Florence Briggs Th...</td>\n",
       "      <td>female</td>\n",
       "      <td>38.0</td>\n",
       "      <td>1</td>\n",
       "      <td>0</td>\n",
       "      <td>PC 17599</td>\n",
       "      <td>71.2833</td>\n",
       "      <td>C85</td>\n",
       "      <td>C</td>\n",
       "    </tr>\n",
       "    <tr>\n",
       "      <th>2</th>\n",
       "      <td>3</td>\n",
       "      <td>1</td>\n",
       "      <td>3</td>\n",
       "      <td>Heikkinen, Miss. Laina</td>\n",
       "      <td>female</td>\n",
       "      <td>26.0</td>\n",
       "      <td>0</td>\n",
       "      <td>0</td>\n",
       "      <td>STON/O2. 3101282</td>\n",
       "      <td>7.9250</td>\n",
       "      <td>NaN</td>\n",
       "      <td>S</td>\n",
       "    </tr>\n",
       "    <tr>\n",
       "      <th>3</th>\n",
       "      <td>4</td>\n",
       "      <td>1</td>\n",
       "      <td>1</td>\n",
       "      <td>Futrelle, Mrs. Jacques Heath (Lily May Peel)</td>\n",
       "      <td>female</td>\n",
       "      <td>35.0</td>\n",
       "      <td>1</td>\n",
       "      <td>0</td>\n",
       "      <td>113803</td>\n",
       "      <td>53.1000</td>\n",
       "      <td>C123</td>\n",
       "      <td>S</td>\n",
       "    </tr>\n",
       "    <tr>\n",
       "      <th>4</th>\n",
       "      <td>5</td>\n",
       "      <td>0</td>\n",
       "      <td>3</td>\n",
       "      <td>Allen, Mr. William Henry</td>\n",
       "      <td>male</td>\n",
       "      <td>35.0</td>\n",
       "      <td>0</td>\n",
       "      <td>0</td>\n",
       "      <td>373450</td>\n",
       "      <td>8.0500</td>\n",
       "      <td>NaN</td>\n",
       "      <td>S</td>\n",
       "    </tr>\n",
       "  </tbody>\n",
       "</table>\n",
       "</div>"
      ],
      "text/plain": [
       "   PassengerId  Survived  Pclass  \\\n",
       "0            1         0       3   \n",
       "1            2         1       1   \n",
       "2            3         1       3   \n",
       "3            4         1       1   \n",
       "4            5         0       3   \n",
       "\n",
       "                                                Name     Sex   Age  SibSp  \\\n",
       "0                            Braund, Mr. Owen Harris    male  22.0      1   \n",
       "1  Cumings, Mrs. John Bradley (Florence Briggs Th...  female  38.0      1   \n",
       "2                             Heikkinen, Miss. Laina  female  26.0      0   \n",
       "3       Futrelle, Mrs. Jacques Heath (Lily May Peel)  female  35.0      1   \n",
       "4                           Allen, Mr. William Henry    male  35.0      0   \n",
       "\n",
       "   Parch            Ticket     Fare Cabin Embarked  \n",
       "0      0         A/5 21171   7.2500   NaN        S  \n",
       "1      0          PC 17599  71.2833   C85        C  \n",
       "2      0  STON/O2. 3101282   7.9250   NaN        S  \n",
       "3      0            113803  53.1000  C123        S  \n",
       "4      0            373450   8.0500   NaN        S  "
      ]
     },
     "metadata": {},
     "output_type": "display_data"
    },
    {
     "data": {
      "text/plain": [
       "(891, 12)"
      ]
     },
     "metadata": {},
     "output_type": "display_data"
    },
    {
     "data": {
      "text/plain": [
       "Index(['PassengerId', 'Survived', 'Pclass', 'Name', 'Sex', 'Age', 'SibSp',\n",
       "       'Parch', 'Ticket', 'Fare', 'Cabin', 'Embarked'],\n",
       "      dtype='object')"
      ]
     },
     "metadata": {},
     "output_type": "display_data"
    },
    {
     "name": "stdout",
     "output_type": "stream",
     "text": [
      "<class 'pandas.core.frame.DataFrame'>\n",
      "RangeIndex: 891 entries, 0 to 890\n",
      "Data columns (total 12 columns):\n",
      "PassengerId    891 non-null int64\n",
      "Survived       891 non-null int64\n",
      "Pclass         891 non-null int64\n",
      "Name           891 non-null object\n",
      "Sex            891 non-null object\n",
      "Age            714 non-null float64\n",
      "SibSp          891 non-null int64\n",
      "Parch          891 non-null int64\n",
      "Ticket         891 non-null object\n",
      "Fare           891 non-null float64\n",
      "Cabin          204 non-null object\n",
      "Embarked       889 non-null object\n",
      "dtypes: float64(2), int64(5), object(5)\n",
      "memory usage: 83.6+ KB\n"
     ]
    },
    {
     "data": {
      "text/plain": [
       "None"
      ]
     },
     "metadata": {},
     "output_type": "display_data"
    }
   ],
   "source": [
    "# Leitura do banco de dados \"titanic.csv\":\n",
    "df_titanic = pd.read_csv(\"titanic.csv\")\n",
    "# Primeiras linhas do banco de dados\n",
    "display(df_titanic.head())\n",
    "# Dimensões do banco de dados\n",
    "display(df_titanic.shape)\n",
    "# Nomes das features\n",
    "display(df_titanic.columns)\n",
    "# Informação geral das features\n",
    "display(df_titanic.info())"
   ]
  },
  {
   "cell_type": "markdown",
   "metadata": {},
   "source": [
    "### Etapa 1: Fazer Perguntas - Hipóteses\n",
    "\n",
    "Como nos foi dado primeiramente o banco de dados, desse modo, foi feito inicialmente uma análise prévia do mesmo para que as perguntas a serem criadas possam fazer mais sentido.\n",
    "\n",
    "#### Perguntas propostas:\n",
    "1) Qual a frequência e porcentagem dos sobreviventes do naufrágio?                                  \n",
    "2) Qual a frequência e proporção do gênero dos sobreviventes? Qual gênero obteve maior chance de sobrevivência?     \n",
    "3) Qual a frequência e proporção da classe dos sobreviventes? Qual classe obteve maior chance de sobrevivência?      \n",
    "4) Qual a frequência e proporção do gênero combinado com classe dos sobreviventes? Qual combinação obteve maior chance de sobrevivência?                                                                                             \n",
    "5) Qual a idade média dos sobreviventes homens e mulheres da primeira, segunda e terceira classe?                     \n",
    "6) Qual o preço médio pago no passagem pelos sobreviventes de primeira, segunda e terceira classe?       \n",
    "\n",
    "#### Porque é válido essas perguntas (respectivamente)? Qual a sua motivação?\n",
    "\n",
    "1) Visualizar o nível do desastre humano do acidente.                                                                 \n",
    "2) Entender se ter um determinado tipo de genêro aumenta as chances de sobrevivência.\n",
    "3) Entender se ter um determinado tipo de classe aumenta as chances de sobrevivência.                                 \n",
    "4) Entender se ter um determinado tipo de genêro associado a uma dada classe aumenta as chances de sobrevivência.\n",
    "5) Entender o perfil da idade média geral dos sobreviventes                  \n",
    "6) Entender o custo médio da passagem dos sobreviventes de cada classe."
   ]
  },
  {
   "cell_type": "markdown",
   "metadata": {},
   "source": [
    "---"
   ]
  },
  {
   "cell_type": "markdown",
   "metadata": {},
   "source": [
    "### Etapa 2: Limpeza dos dados\n",
    "\n",
    "#### A) Análise Inicial das *features* do Titanic\n",
    "\n",
    "Primeiramente foi feita a realização de uma inspeção das colunas, onde se observou todos os **tipos de dados** presentes nas colunas, onde foi verificado que nenhum tipo foi necessário de ser ajustado.\n",
    "\n",
    "Em seguida, analisou-se o conteúdo das colunas, onde foi verificado que algumas por estarem fora do escopo da proposta e não influenciarem diretamente na possibilidade de sobrevivência no acidente, foram **desconsideradas** da análise. No total, **7** *features* foram descartadas:\n",
    "\n",
    "Index | Features | Significados | Motivo\n",
    "------------ | ------------ | ------------- | -------------\n",
    "1 | PassengerId | Id do passageiro | Saber o Id do passageiro não influencia na análise\n",
    "2 | Name | Nome | Saber o nome da pessoa não influencia na análise\n",
    "3 | SibSp | Número de Irmãos/Cônjuges no navio | Não influencia na análise de sobrevivência\n",
    "4 | Parch | Número de parentes no navio | Não influencia na análise de sobrevivência\n",
    "5 | Ticket | Número do ticket | Saber o número do ticket da pessoa não influencia na análise\n",
    "6 | Cabin | Número da cabine | Coluna removida devido uma falta substancial de informações com várias linhas nulas\n",
    "7 | Embarked | Porto de origem (C,Q,S) | Não influencia na análise de sobrevivência\n",
    "\n"
   ]
  },
  {
   "cell_type": "code",
   "execution_count": 374,
   "metadata": {},
   "outputs": [],
   "source": [
    "#Removendo as colunas que não serão utilizadas:\n",
    "df_titanic.drop(['PassengerId','Name','SibSp','Parch','Ticket','Cabin','Embarked'], axis=1,inplace=True)"
   ]
  },
  {
   "cell_type": "markdown",
   "metadata": {},
   "source": [
    "#### B) Lidando com os valores faltantes na coluna de idade\n",
    "\n",
    "A coluna idade possui ```df_titanic['Age'].count()``` = 714 *samples* porém nosso banco de dados possui 891 no total.\n",
    "Para tratar esses valores faltantes **NaN** optou-se por **excluir** essas linhas onde não temos esses dados e obtermos uma nova amostra de análise com 714 *samples*.\n"
   ]
  },
  {
   "cell_type": "code",
   "execution_count": 375,
   "metadata": {},
   "outputs": [
    {
     "data": {
      "text/plain": [
       "0    22.0\n",
       "1    38.0\n",
       "2    26.0\n",
       "3    35.0\n",
       "4    35.0\n",
       "5     NaN\n",
       "6    54.0\n",
       "7     2.0\n",
       "Name: Age, dtype: float64"
      ]
     },
     "metadata": {},
     "output_type": "display_data"
    },
    {
     "data": {
      "text/plain": [
       "(891, 5)"
      ]
     },
     "execution_count": 375,
     "metadata": {},
     "output_type": "execute_result"
    }
   ],
   "source": [
    "#Dataframe inicial antes da remoção das linhas NaN\n",
    "display(df_titanic[\"Age\"].head(8))\n",
    "df_titanic.shape"
   ]
  },
  {
   "cell_type": "code",
   "execution_count": 376,
   "metadata": {},
   "outputs": [],
   "source": [
    "#Excluindo as linhas onde temos valores faltantes na feature 'Age':\n",
    "df_titanic.dropna(inplace = True)"
   ]
  },
  {
   "cell_type": "code",
   "execution_count": 377,
   "metadata": {},
   "outputs": [
    {
     "data": {
      "text/plain": [
       "0    22.0\n",
       "1    38.0\n",
       "2    26.0\n",
       "3    35.0\n",
       "4    35.0\n",
       "6    54.0\n",
       "7     2.0\n",
       "8    27.0\n",
       "Name: Age, dtype: float64"
      ]
     },
     "metadata": {},
     "output_type": "display_data"
    },
    {
     "data": {
      "text/plain": [
       "(714, 5)"
      ]
     },
     "execution_count": 377,
     "metadata": {},
     "output_type": "execute_result"
    }
   ],
   "source": [
    "#Dataframe final antes da remoção das linhas NaN\n",
    "display(df_titanic[\"Age\"].head(8))\n",
    "df_titanic.shape"
   ]
  },
  {
   "cell_type": "markdown",
   "metadata": {},
   "source": [
    "#### C) Transformando os valores decimais da coluna \"Age\" em inteiros\n",
    "\n",
    "Foi observado que a coluna Age possuia valores decimais utilizando o comando ```df_titanic[\"Age\"].unique()```. Devio à isso, foi necessário transformar todos os números decimais em inteiros."
   ]
  },
  {
   "cell_type": "code",
   "execution_count": 378,
   "metadata": {},
   "outputs": [
    {
     "data": {
      "text/plain": [
       "array([22.  , 38.  , 26.  , 35.  , 54.  ,  2.  , 27.  , 14.  ,  4.  ,\n",
       "       58.  , 20.  , 39.  , 55.  , 31.  , 34.  , 15.  , 28.  ,  8.  ,\n",
       "       19.  , 40.  , 66.  , 42.  , 21.  , 18.  ,  3.  ,  7.  , 49.  ,\n",
       "       29.  , 65.  , 28.5 ,  5.  , 11.  , 45.  , 17.  , 32.  , 16.  ,\n",
       "       25.  ,  0.83, 30.  , 33.  , 23.  , 24.  , 46.  , 59.  , 71.  ,\n",
       "       37.  , 47.  , 14.5 , 70.5 , 32.5 , 12.  ,  9.  , 36.5 , 51.  ,\n",
       "       55.5 , 40.5 , 44.  ,  1.  , 61.  , 56.  , 50.  , 36.  , 45.5 ,\n",
       "       20.5 , 62.  , 41.  , 52.  , 63.  , 23.5 ,  0.92, 43.  , 60.  ,\n",
       "       10.  , 64.  , 13.  , 48.  ,  0.75, 53.  , 57.  , 80.  , 70.  ,\n",
       "       24.5 ,  6.  ,  0.67, 30.5 ,  0.42, 34.5 , 74.  ])"
      ]
     },
     "metadata": {},
     "output_type": "display_data"
    },
    {
     "data": {
      "text/plain": [
       "714"
      ]
     },
     "metadata": {},
     "output_type": "display_data"
    }
   ],
   "source": [
    "#Valores únicos da coluna Age do dataframe com valores decimais\n",
    "display(df_titanic[\"Age\"].unique())\n",
    "#Tamanho inicial\n",
    "display(len(df_titanic[\"Age\"]))"
   ]
  },
  {
   "cell_type": "code",
   "execution_count": 379,
   "metadata": {},
   "outputs": [
    {
     "data": {
      "text/plain": [
       "array([22, 38, 26, 35, 54,  2, 27, 14,  4, 58, 20, 39, 55, 31, 34, 15, 28,\n",
       "        8, 19, 40, 66, 42, 21, 18,  3,  7, 49, 29, 65,  5, 11, 45, 17, 32,\n",
       "       16, 25,  0, 30, 33, 23, 24, 46, 59, 71, 37, 47, 70, 12,  9, 36, 51,\n",
       "       44,  1, 61, 56, 50, 62, 41, 52, 63, 43, 60, 10, 64, 13, 48, 53, 57,\n",
       "       80,  6, 74])"
      ]
     },
     "metadata": {},
     "output_type": "display_data"
    },
    {
     "data": {
      "text/plain": [
       "714"
      ]
     },
     "metadata": {},
     "output_type": "display_data"
    }
   ],
   "source": [
    "#Transformando todos os valores da coluna Age em inteiros\n",
    "df_titanic[\"Age\"] = df_titanic[\"Age\"].astype(int)\n",
    "display(df_titanic[\"Age\"].unique())\n",
    "#Conferindo se o tamanho inicial foi mantido\n",
    "display(len(df_titanic[\"Age\"]))"
   ]
  },
  {
   "cell_type": "markdown",
   "metadata": {},
   "source": [
    "#### D) Criando a coluna Range de Idade\n",
    "Agora com a coluna de idade limpa, criaremos uma nova coluna que irá conter os ranges de idade de forma caracterizada por uma categoria. Para isso, consideraremos a seguinte divisão:\n",
    "\n",
    "**Criança** - Faixa de Idade de 0 a 12 anos                                     \n",
    "**Adolescente** - Faixa de Idade de 13 a 18 anos                                    \n",
    "**Adulto** - Faixa de Idade de 19 a 50 anos (expectativa de vida na época)                                    \n",
    "**Idoso** - Faixa de Idade maior que 50 anos"
   ]
  },
  {
   "cell_type": "code",
   "execution_count": 422,
   "metadata": {},
   "outputs": [
    {
     "data": {
      "text/html": [
       "<div>\n",
       "<style scoped>\n",
       "    .dataframe tbody tr th:only-of-type {\n",
       "        vertical-align: middle;\n",
       "    }\n",
       "\n",
       "    .dataframe tbody tr th {\n",
       "        vertical-align: top;\n",
       "    }\n",
       "\n",
       "    .dataframe thead th {\n",
       "        text-align: right;\n",
       "    }\n",
       "</style>\n",
       "<table border=\"1\" class=\"dataframe\">\n",
       "  <thead>\n",
       "    <tr style=\"text-align: right;\">\n",
       "      <th></th>\n",
       "      <th>Survived</th>\n",
       "      <th>Pclass</th>\n",
       "      <th>Sex</th>\n",
       "      <th>Age</th>\n",
       "      <th>Fare</th>\n",
       "    </tr>\n",
       "  </thead>\n",
       "  <tbody>\n",
       "    <tr>\n",
       "      <th>7</th>\n",
       "      <td>0</td>\n",
       "      <td>3</td>\n",
       "      <td>male</td>\n",
       "      <td>2</td>\n",
       "      <td>21.0750</td>\n",
       "    </tr>\n",
       "    <tr>\n",
       "      <th>10</th>\n",
       "      <td>1</td>\n",
       "      <td>3</td>\n",
       "      <td>female</td>\n",
       "      <td>4</td>\n",
       "      <td>16.7000</td>\n",
       "    </tr>\n",
       "    <tr>\n",
       "      <th>16</th>\n",
       "      <td>0</td>\n",
       "      <td>3</td>\n",
       "      <td>male</td>\n",
       "      <td>2</td>\n",
       "      <td>29.1250</td>\n",
       "    </tr>\n",
       "    <tr>\n",
       "      <th>24</th>\n",
       "      <td>0</td>\n",
       "      <td>3</td>\n",
       "      <td>female</td>\n",
       "      <td>8</td>\n",
       "      <td>21.0750</td>\n",
       "    </tr>\n",
       "    <tr>\n",
       "      <th>43</th>\n",
       "      <td>1</td>\n",
       "      <td>2</td>\n",
       "      <td>female</td>\n",
       "      <td>3</td>\n",
       "      <td>41.5792</td>\n",
       "    </tr>\n",
       "  </tbody>\n",
       "</table>\n",
       "</div>"
      ],
      "text/plain": [
       "    Survived  Pclass     Sex  Age     Fare\n",
       "7          0       3    male    2  21.0750\n",
       "10         1       3  female    4  16.7000\n",
       "16         0       3    male    2  29.1250\n",
       "24         0       3  female    8  21.0750\n",
       "43         1       2  female    3  41.5792"
      ]
     },
     "metadata": {},
     "output_type": "display_data"
    },
    {
     "data": {
      "text/html": [
       "<div>\n",
       "<style scoped>\n",
       "    .dataframe tbody tr th:only-of-type {\n",
       "        vertical-align: middle;\n",
       "    }\n",
       "\n",
       "    .dataframe tbody tr th {\n",
       "        vertical-align: top;\n",
       "    }\n",
       "\n",
       "    .dataframe thead th {\n",
       "        text-align: right;\n",
       "    }\n",
       "</style>\n",
       "<table border=\"1\" class=\"dataframe\">\n",
       "  <thead>\n",
       "    <tr style=\"text-align: right;\">\n",
       "      <th></th>\n",
       "      <th>Survived</th>\n",
       "      <th>Pclass</th>\n",
       "      <th>Sex</th>\n",
       "      <th>Age</th>\n",
       "      <th>Fare</th>\n",
       "      <th>Age Range</th>\n",
       "    </tr>\n",
       "  </thead>\n",
       "  <tbody>\n",
       "    <tr>\n",
       "      <th>7</th>\n",
       "      <td>0</td>\n",
       "      <td>3</td>\n",
       "      <td>male</td>\n",
       "      <td>2</td>\n",
       "      <td>21.0750</td>\n",
       "      <td>Criança</td>\n",
       "    </tr>\n",
       "    <tr>\n",
       "      <th>10</th>\n",
       "      <td>1</td>\n",
       "      <td>3</td>\n",
       "      <td>female</td>\n",
       "      <td>4</td>\n",
       "      <td>16.7000</td>\n",
       "      <td>Criança</td>\n",
       "    </tr>\n",
       "    <tr>\n",
       "      <th>16</th>\n",
       "      <td>0</td>\n",
       "      <td>3</td>\n",
       "      <td>male</td>\n",
       "      <td>2</td>\n",
       "      <td>29.1250</td>\n",
       "      <td>Criança</td>\n",
       "    </tr>\n",
       "    <tr>\n",
       "      <th>24</th>\n",
       "      <td>0</td>\n",
       "      <td>3</td>\n",
       "      <td>female</td>\n",
       "      <td>8</td>\n",
       "      <td>21.0750</td>\n",
       "      <td>Criança</td>\n",
       "    </tr>\n",
       "    <tr>\n",
       "      <th>43</th>\n",
       "      <td>1</td>\n",
       "      <td>2</td>\n",
       "      <td>female</td>\n",
       "      <td>3</td>\n",
       "      <td>41.5792</td>\n",
       "      <td>Criança</td>\n",
       "    </tr>\n",
       "  </tbody>\n",
       "</table>\n",
       "</div>"
      ],
      "text/plain": [
       "    Survived  Pclass     Sex  Age     Fare Age Range\n",
       "7          0       3    male    2  21.0750   Criança\n",
       "10         1       3  female    4  16.7000   Criança\n",
       "16         0       3    male    2  29.1250   Criança\n",
       "24         0       3  female    8  21.0750   Criança\n",
       "43         1       2  female    3  41.5792   Criança"
      ]
     },
     "metadata": {},
     "output_type": "display_data"
    },
    {
     "data": {
      "text/html": [
       "<div>\n",
       "<style scoped>\n",
       "    .dataframe tbody tr th:only-of-type {\n",
       "        vertical-align: middle;\n",
       "    }\n",
       "\n",
       "    .dataframe tbody tr th {\n",
       "        vertical-align: top;\n",
       "    }\n",
       "\n",
       "    .dataframe thead th {\n",
       "        text-align: right;\n",
       "    }\n",
       "</style>\n",
       "<table border=\"1\" class=\"dataframe\">\n",
       "  <thead>\n",
       "    <tr style=\"text-align: right;\">\n",
       "      <th></th>\n",
       "      <th>Survived</th>\n",
       "      <th>Pclass</th>\n",
       "      <th>Sex</th>\n",
       "      <th>Age</th>\n",
       "      <th>Fare</th>\n",
       "    </tr>\n",
       "  </thead>\n",
       "  <tbody>\n",
       "    <tr>\n",
       "      <th>9</th>\n",
       "      <td>1</td>\n",
       "      <td>2</td>\n",
       "      <td>female</td>\n",
       "      <td>14</td>\n",
       "      <td>30.0708</td>\n",
       "    </tr>\n",
       "    <tr>\n",
       "      <th>14</th>\n",
       "      <td>0</td>\n",
       "      <td>3</td>\n",
       "      <td>female</td>\n",
       "      <td>14</td>\n",
       "      <td>7.8542</td>\n",
       "    </tr>\n",
       "    <tr>\n",
       "      <th>22</th>\n",
       "      <td>1</td>\n",
       "      <td>3</td>\n",
       "      <td>female</td>\n",
       "      <td>15</td>\n",
       "      <td>8.0292</td>\n",
       "    </tr>\n",
       "    <tr>\n",
       "      <th>38</th>\n",
       "      <td>0</td>\n",
       "      <td>3</td>\n",
       "      <td>female</td>\n",
       "      <td>18</td>\n",
       "      <td>18.0000</td>\n",
       "    </tr>\n",
       "    <tr>\n",
       "      <th>39</th>\n",
       "      <td>1</td>\n",
       "      <td>3</td>\n",
       "      <td>female</td>\n",
       "      <td>14</td>\n",
       "      <td>11.2417</td>\n",
       "    </tr>\n",
       "  </tbody>\n",
       "</table>\n",
       "</div>"
      ],
      "text/plain": [
       "    Survived  Pclass     Sex  Age     Fare\n",
       "9          1       2  female   14  30.0708\n",
       "14         0       3  female   14   7.8542\n",
       "22         1       3  female   15   8.0292\n",
       "38         0       3  female   18  18.0000\n",
       "39         1       3  female   14  11.2417"
      ]
     },
     "metadata": {},
     "output_type": "display_data"
    },
    {
     "data": {
      "text/html": [
       "<div>\n",
       "<style scoped>\n",
       "    .dataframe tbody tr th:only-of-type {\n",
       "        vertical-align: middle;\n",
       "    }\n",
       "\n",
       "    .dataframe tbody tr th {\n",
       "        vertical-align: top;\n",
       "    }\n",
       "\n",
       "    .dataframe thead th {\n",
       "        text-align: right;\n",
       "    }\n",
       "</style>\n",
       "<table border=\"1\" class=\"dataframe\">\n",
       "  <thead>\n",
       "    <tr style=\"text-align: right;\">\n",
       "      <th></th>\n",
       "      <th>Survived</th>\n",
       "      <th>Pclass</th>\n",
       "      <th>Sex</th>\n",
       "      <th>Age</th>\n",
       "      <th>Fare</th>\n",
       "      <th>Age Range</th>\n",
       "    </tr>\n",
       "  </thead>\n",
       "  <tbody>\n",
       "    <tr>\n",
       "      <th>9</th>\n",
       "      <td>1</td>\n",
       "      <td>2</td>\n",
       "      <td>female</td>\n",
       "      <td>14</td>\n",
       "      <td>30.0708</td>\n",
       "      <td>Adolescente</td>\n",
       "    </tr>\n",
       "    <tr>\n",
       "      <th>14</th>\n",
       "      <td>0</td>\n",
       "      <td>3</td>\n",
       "      <td>female</td>\n",
       "      <td>14</td>\n",
       "      <td>7.8542</td>\n",
       "      <td>Adolescente</td>\n",
       "    </tr>\n",
       "    <tr>\n",
       "      <th>22</th>\n",
       "      <td>1</td>\n",
       "      <td>3</td>\n",
       "      <td>female</td>\n",
       "      <td>15</td>\n",
       "      <td>8.0292</td>\n",
       "      <td>Adolescente</td>\n",
       "    </tr>\n",
       "    <tr>\n",
       "      <th>38</th>\n",
       "      <td>0</td>\n",
       "      <td>3</td>\n",
       "      <td>female</td>\n",
       "      <td>18</td>\n",
       "      <td>18.0000</td>\n",
       "      <td>Adolescente</td>\n",
       "    </tr>\n",
       "    <tr>\n",
       "      <th>39</th>\n",
       "      <td>1</td>\n",
       "      <td>3</td>\n",
       "      <td>female</td>\n",
       "      <td>14</td>\n",
       "      <td>11.2417</td>\n",
       "      <td>Adolescente</td>\n",
       "    </tr>\n",
       "  </tbody>\n",
       "</table>\n",
       "</div>"
      ],
      "text/plain": [
       "    Survived  Pclass     Sex  Age     Fare    Age Range\n",
       "9          1       2  female   14  30.0708  Adolescente\n",
       "14         0       3  female   14   7.8542  Adolescente\n",
       "22         1       3  female   15   8.0292  Adolescente\n",
       "38         0       3  female   18  18.0000  Adolescente\n",
       "39         1       3  female   14  11.2417  Adolescente"
      ]
     },
     "metadata": {},
     "output_type": "display_data"
    },
    {
     "data": {
      "text/html": [
       "<div>\n",
       "<style scoped>\n",
       "    .dataframe tbody tr th:only-of-type {\n",
       "        vertical-align: middle;\n",
       "    }\n",
       "\n",
       "    .dataframe tbody tr th {\n",
       "        vertical-align: top;\n",
       "    }\n",
       "\n",
       "    .dataframe thead th {\n",
       "        text-align: right;\n",
       "    }\n",
       "</style>\n",
       "<table border=\"1\" class=\"dataframe\">\n",
       "  <thead>\n",
       "    <tr style=\"text-align: right;\">\n",
       "      <th></th>\n",
       "      <th>Survived</th>\n",
       "      <th>Pclass</th>\n",
       "      <th>Sex</th>\n",
       "      <th>Age</th>\n",
       "      <th>Fare</th>\n",
       "    </tr>\n",
       "  </thead>\n",
       "  <tbody>\n",
       "    <tr>\n",
       "      <th>0</th>\n",
       "      <td>0</td>\n",
       "      <td>3</td>\n",
       "      <td>male</td>\n",
       "      <td>22</td>\n",
       "      <td>7.2500</td>\n",
       "    </tr>\n",
       "    <tr>\n",
       "      <th>1</th>\n",
       "      <td>1</td>\n",
       "      <td>1</td>\n",
       "      <td>female</td>\n",
       "      <td>38</td>\n",
       "      <td>71.2833</td>\n",
       "    </tr>\n",
       "    <tr>\n",
       "      <th>2</th>\n",
       "      <td>1</td>\n",
       "      <td>3</td>\n",
       "      <td>female</td>\n",
       "      <td>26</td>\n",
       "      <td>7.9250</td>\n",
       "    </tr>\n",
       "    <tr>\n",
       "      <th>3</th>\n",
       "      <td>1</td>\n",
       "      <td>1</td>\n",
       "      <td>female</td>\n",
       "      <td>35</td>\n",
       "      <td>53.1000</td>\n",
       "    </tr>\n",
       "    <tr>\n",
       "      <th>4</th>\n",
       "      <td>0</td>\n",
       "      <td>3</td>\n",
       "      <td>male</td>\n",
       "      <td>35</td>\n",
       "      <td>8.0500</td>\n",
       "    </tr>\n",
       "  </tbody>\n",
       "</table>\n",
       "</div>"
      ],
      "text/plain": [
       "   Survived  Pclass     Sex  Age     Fare\n",
       "0         0       3    male   22   7.2500\n",
       "1         1       1  female   38  71.2833\n",
       "2         1       3  female   26   7.9250\n",
       "3         1       1  female   35  53.1000\n",
       "4         0       3    male   35   8.0500"
      ]
     },
     "metadata": {},
     "output_type": "display_data"
    },
    {
     "data": {
      "text/html": [
       "<div>\n",
       "<style scoped>\n",
       "    .dataframe tbody tr th:only-of-type {\n",
       "        vertical-align: middle;\n",
       "    }\n",
       "\n",
       "    .dataframe tbody tr th {\n",
       "        vertical-align: top;\n",
       "    }\n",
       "\n",
       "    .dataframe thead th {\n",
       "        text-align: right;\n",
       "    }\n",
       "</style>\n",
       "<table border=\"1\" class=\"dataframe\">\n",
       "  <thead>\n",
       "    <tr style=\"text-align: right;\">\n",
       "      <th></th>\n",
       "      <th>Survived</th>\n",
       "      <th>Pclass</th>\n",
       "      <th>Sex</th>\n",
       "      <th>Age</th>\n",
       "      <th>Fare</th>\n",
       "      <th>Age Range</th>\n",
       "    </tr>\n",
       "  </thead>\n",
       "  <tbody>\n",
       "    <tr>\n",
       "      <th>0</th>\n",
       "      <td>0</td>\n",
       "      <td>3</td>\n",
       "      <td>male</td>\n",
       "      <td>22</td>\n",
       "      <td>7.2500</td>\n",
       "      <td>Adulto</td>\n",
       "    </tr>\n",
       "    <tr>\n",
       "      <th>1</th>\n",
       "      <td>1</td>\n",
       "      <td>1</td>\n",
       "      <td>female</td>\n",
       "      <td>38</td>\n",
       "      <td>71.2833</td>\n",
       "      <td>Adulto</td>\n",
       "    </tr>\n",
       "    <tr>\n",
       "      <th>2</th>\n",
       "      <td>1</td>\n",
       "      <td>3</td>\n",
       "      <td>female</td>\n",
       "      <td>26</td>\n",
       "      <td>7.9250</td>\n",
       "      <td>Adulto</td>\n",
       "    </tr>\n",
       "    <tr>\n",
       "      <th>3</th>\n",
       "      <td>1</td>\n",
       "      <td>1</td>\n",
       "      <td>female</td>\n",
       "      <td>35</td>\n",
       "      <td>53.1000</td>\n",
       "      <td>Adulto</td>\n",
       "    </tr>\n",
       "    <tr>\n",
       "      <th>4</th>\n",
       "      <td>0</td>\n",
       "      <td>3</td>\n",
       "      <td>male</td>\n",
       "      <td>35</td>\n",
       "      <td>8.0500</td>\n",
       "      <td>Adulto</td>\n",
       "    </tr>\n",
       "  </tbody>\n",
       "</table>\n",
       "</div>"
      ],
      "text/plain": [
       "   Survived  Pclass     Sex  Age     Fare Age Range\n",
       "0         0       3    male   22   7.2500    Adulto\n",
       "1         1       1  female   38  71.2833    Adulto\n",
       "2         1       3  female   26   7.9250    Adulto\n",
       "3         1       1  female   35  53.1000    Adulto\n",
       "4         0       3    male   35   8.0500    Adulto"
      ]
     },
     "metadata": {},
     "output_type": "display_data"
    },
    {
     "data": {
      "text/html": [
       "<div>\n",
       "<style scoped>\n",
       "    .dataframe tbody tr th:only-of-type {\n",
       "        vertical-align: middle;\n",
       "    }\n",
       "\n",
       "    .dataframe tbody tr th {\n",
       "        vertical-align: top;\n",
       "    }\n",
       "\n",
       "    .dataframe thead th {\n",
       "        text-align: right;\n",
       "    }\n",
       "</style>\n",
       "<table border=\"1\" class=\"dataframe\">\n",
       "  <thead>\n",
       "    <tr style=\"text-align: right;\">\n",
       "      <th></th>\n",
       "      <th>Survived</th>\n",
       "      <th>Pclass</th>\n",
       "      <th>Sex</th>\n",
       "      <th>Age</th>\n",
       "      <th>Fare</th>\n",
       "    </tr>\n",
       "  </thead>\n",
       "  <tbody>\n",
       "    <tr>\n",
       "      <th>6</th>\n",
       "      <td>0</td>\n",
       "      <td>1</td>\n",
       "      <td>male</td>\n",
       "      <td>54</td>\n",
       "      <td>51.8625</td>\n",
       "    </tr>\n",
       "    <tr>\n",
       "      <th>11</th>\n",
       "      <td>1</td>\n",
       "      <td>1</td>\n",
       "      <td>female</td>\n",
       "      <td>58</td>\n",
       "      <td>26.5500</td>\n",
       "    </tr>\n",
       "    <tr>\n",
       "      <th>15</th>\n",
       "      <td>1</td>\n",
       "      <td>2</td>\n",
       "      <td>female</td>\n",
       "      <td>55</td>\n",
       "      <td>16.0000</td>\n",
       "    </tr>\n",
       "    <tr>\n",
       "      <th>33</th>\n",
       "      <td>0</td>\n",
       "      <td>2</td>\n",
       "      <td>male</td>\n",
       "      <td>66</td>\n",
       "      <td>10.5000</td>\n",
       "    </tr>\n",
       "    <tr>\n",
       "      <th>54</th>\n",
       "      <td>0</td>\n",
       "      <td>1</td>\n",
       "      <td>male</td>\n",
       "      <td>65</td>\n",
       "      <td>61.9792</td>\n",
       "    </tr>\n",
       "  </tbody>\n",
       "</table>\n",
       "</div>"
      ],
      "text/plain": [
       "    Survived  Pclass     Sex  Age     Fare\n",
       "6          0       1    male   54  51.8625\n",
       "11         1       1  female   58  26.5500\n",
       "15         1       2  female   55  16.0000\n",
       "33         0       2    male   66  10.5000\n",
       "54         0       1    male   65  61.9792"
      ]
     },
     "metadata": {},
     "output_type": "display_data"
    },
    {
     "data": {
      "text/html": [
       "<div>\n",
       "<style scoped>\n",
       "    .dataframe tbody tr th:only-of-type {\n",
       "        vertical-align: middle;\n",
       "    }\n",
       "\n",
       "    .dataframe tbody tr th {\n",
       "        vertical-align: top;\n",
       "    }\n",
       "\n",
       "    .dataframe thead th {\n",
       "        text-align: right;\n",
       "    }\n",
       "</style>\n",
       "<table border=\"1\" class=\"dataframe\">\n",
       "  <thead>\n",
       "    <tr style=\"text-align: right;\">\n",
       "      <th></th>\n",
       "      <th>Survived</th>\n",
       "      <th>Pclass</th>\n",
       "      <th>Sex</th>\n",
       "      <th>Age</th>\n",
       "      <th>Fare</th>\n",
       "      <th>Age Range</th>\n",
       "    </tr>\n",
       "  </thead>\n",
       "  <tbody>\n",
       "    <tr>\n",
       "      <th>6</th>\n",
       "      <td>0</td>\n",
       "      <td>1</td>\n",
       "      <td>male</td>\n",
       "      <td>54</td>\n",
       "      <td>51.8625</td>\n",
       "      <td>Idoso</td>\n",
       "    </tr>\n",
       "    <tr>\n",
       "      <th>11</th>\n",
       "      <td>1</td>\n",
       "      <td>1</td>\n",
       "      <td>female</td>\n",
       "      <td>58</td>\n",
       "      <td>26.5500</td>\n",
       "      <td>Idoso</td>\n",
       "    </tr>\n",
       "    <tr>\n",
       "      <th>15</th>\n",
       "      <td>1</td>\n",
       "      <td>2</td>\n",
       "      <td>female</td>\n",
       "      <td>55</td>\n",
       "      <td>16.0000</td>\n",
       "      <td>Idoso</td>\n",
       "    </tr>\n",
       "    <tr>\n",
       "      <th>33</th>\n",
       "      <td>0</td>\n",
       "      <td>2</td>\n",
       "      <td>male</td>\n",
       "      <td>66</td>\n",
       "      <td>10.5000</td>\n",
       "      <td>Idoso</td>\n",
       "    </tr>\n",
       "    <tr>\n",
       "      <th>54</th>\n",
       "      <td>0</td>\n",
       "      <td>1</td>\n",
       "      <td>male</td>\n",
       "      <td>65</td>\n",
       "      <td>61.9792</td>\n",
       "      <td>Idoso</td>\n",
       "    </tr>\n",
       "  </tbody>\n",
       "</table>\n",
       "</div>"
      ],
      "text/plain": [
       "    Survived  Pclass     Sex  Age     Fare Age Range\n",
       "6          0       1    male   54  51.8625     Idoso\n",
       "11         1       1  female   58  26.5500     Idoso\n",
       "15         1       2  female   55  16.0000     Idoso\n",
       "33         0       2    male   66  10.5000     Idoso\n",
       "54         0       1    male   65  61.9792     Idoso"
      ]
     },
     "metadata": {},
     "output_type": "display_data"
    },
    {
     "data": {
      "text/plain": [
       "True"
      ]
     },
     "metadata": {},
     "output_type": "display_data"
    },
    {
     "data": {
      "text/plain": [
       "True"
      ]
     },
     "metadata": {},
     "output_type": "display_data"
    },
    {
     "data": {
      "text/plain": [
       "True"
      ]
     },
     "metadata": {},
     "output_type": "display_data"
    },
    {
     "data": {
      "text/plain": [
       "True"
      ]
     },
     "metadata": {},
     "output_type": "display_data"
    },
    {
     "data": {
      "text/plain": [
       "True"
      ]
     },
     "metadata": {},
     "output_type": "display_data"
    },
    {
     "data": {
      "text/plain": [
       "True"
      ]
     },
     "metadata": {},
     "output_type": "display_data"
    },
    {
     "data": {
      "text/plain": [
       "True"
      ]
     },
     "metadata": {},
     "output_type": "display_data"
    }
   ],
   "source": [
    "#Realizando dataframes auxiliares para cada condição da faixa de idade\n",
    "df_crianca = df_titanic.query(\"Age <= {0}\".format(12)).copy()\n",
    "display(df_crianca.head())\n",
    "df_crianca[\"Age Range\"] = np.repeat(\"Criança\", len(df_crianca))\n",
    "display(df_crianca.head())\n",
    "\n",
    "df_adol = df_titanic.query(\"Age >= {0} and Age <= {1}\".format(13,18)).copy()\n",
    "display(df_adol.head())\n",
    "df_adol[\"Age Range\"] = np.repeat(\"Adolescente\", len(df_adol))\n",
    "display(df_adol.head())\n",
    "\n",
    "df_adul = df_titanic.query(\"Age >= {0} and Age <= {1}\".format(19,50)).copy()\n",
    "display(df_adul.head())\n",
    "df_adul[\"Age Range\"] = np.repeat(\"Adulto\", len(df_adul))\n",
    "display(df_adul.head())\n",
    "\n",
    "df_ido = df_titanic.query(\"Age >= {0}\".format(51)).copy()\n",
    "display(df_ido.head())\n",
    "df_ido[\"Age Range\"] = np.repeat(\"Idoso\", len(df_ido))\n",
    "display(df_ido.head())\n",
    "\n",
    "#Conferindo os limites extremos de cada dataframe auxiliar para garantir a qualidade do procedimento\n",
    "display(df_crianca[\"Age\"].max() == 12)\n",
    "display(df_crianca[\"Age\"].min()== 0)\n",
    "display(df_adol[\"Age\"].max()== 18)\n",
    "display(df_adol[\"Age\"].min()== 13)\n",
    "display(df_adul[\"Age\"].max()== 50)\n",
    "display(df_adul[\"Age\"].min()== 19)\n",
    "display(df_ido[\"Age\"].min()== 51)"
   ]
  },
  {
   "cell_type": "code",
   "execution_count": 423,
   "metadata": {},
   "outputs": [
    {
     "data": {
      "text/html": [
       "<div>\n",
       "<style scoped>\n",
       "    .dataframe tbody tr th:only-of-type {\n",
       "        vertical-align: middle;\n",
       "    }\n",
       "\n",
       "    .dataframe tbody tr th {\n",
       "        vertical-align: top;\n",
       "    }\n",
       "\n",
       "    .dataframe thead th {\n",
       "        text-align: right;\n",
       "    }\n",
       "</style>\n",
       "<table border=\"1\" class=\"dataframe\">\n",
       "  <thead>\n",
       "    <tr style=\"text-align: right;\">\n",
       "      <th></th>\n",
       "      <th>Survived</th>\n",
       "      <th>Pclass</th>\n",
       "      <th>Sex</th>\n",
       "      <th>Age</th>\n",
       "      <th>Fare</th>\n",
       "      <th>Age Range</th>\n",
       "    </tr>\n",
       "  </thead>\n",
       "  <tbody>\n",
       "    <tr>\n",
       "      <th>7</th>\n",
       "      <td>0</td>\n",
       "      <td>3</td>\n",
       "      <td>male</td>\n",
       "      <td>2</td>\n",
       "      <td>21.0750</td>\n",
       "      <td>Criança</td>\n",
       "    </tr>\n",
       "    <tr>\n",
       "      <th>10</th>\n",
       "      <td>1</td>\n",
       "      <td>3</td>\n",
       "      <td>female</td>\n",
       "      <td>4</td>\n",
       "      <td>16.7000</td>\n",
       "      <td>Criança</td>\n",
       "    </tr>\n",
       "    <tr>\n",
       "      <th>16</th>\n",
       "      <td>0</td>\n",
       "      <td>3</td>\n",
       "      <td>male</td>\n",
       "      <td>2</td>\n",
       "      <td>29.1250</td>\n",
       "      <td>Criança</td>\n",
       "    </tr>\n",
       "    <tr>\n",
       "      <th>24</th>\n",
       "      <td>0</td>\n",
       "      <td>3</td>\n",
       "      <td>female</td>\n",
       "      <td>8</td>\n",
       "      <td>21.0750</td>\n",
       "      <td>Criança</td>\n",
       "    </tr>\n",
       "    <tr>\n",
       "      <th>43</th>\n",
       "      <td>1</td>\n",
       "      <td>2</td>\n",
       "      <td>female</td>\n",
       "      <td>3</td>\n",
       "      <td>41.5792</td>\n",
       "      <td>Criança</td>\n",
       "    </tr>\n",
       "  </tbody>\n",
       "</table>\n",
       "</div>"
      ],
      "text/plain": [
       "    Survived  Pclass     Sex  Age     Fare Age Range\n",
       "7          0       3    male    2  21.0750   Criança\n",
       "10         1       3  female    4  16.7000   Criança\n",
       "16         0       3    male    2  29.1250   Criança\n",
       "24         0       3  female    8  21.0750   Criança\n",
       "43         1       2  female    3  41.5792   Criança"
      ]
     },
     "metadata": {},
     "output_type": "display_data"
    }
   ],
   "source": [
    "#Combinando os dataframes em um só para adicionar ao original\n",
    "df_titanic_clean = df_crianca.append([df_adol,df_adul,df_ido])\n",
    "\n",
    "display(df_titanic_clean.head())"
   ]
  },
  {
   "cell_type": "code",
   "execution_count": 424,
   "metadata": {},
   "outputs": [
    {
     "data": {
      "text/html": [
       "<div>\n",
       "<style scoped>\n",
       "    .dataframe tbody tr th:only-of-type {\n",
       "        vertical-align: middle;\n",
       "    }\n",
       "\n",
       "    .dataframe tbody tr th {\n",
       "        vertical-align: top;\n",
       "    }\n",
       "\n",
       "    .dataframe thead th {\n",
       "        text-align: right;\n",
       "    }\n",
       "</style>\n",
       "<table border=\"1\" class=\"dataframe\">\n",
       "  <thead>\n",
       "    <tr style=\"text-align: right;\">\n",
       "      <th></th>\n",
       "      <th>Survived</th>\n",
       "      <th>Pclass</th>\n",
       "      <th>Sex</th>\n",
       "      <th>Age</th>\n",
       "      <th>Fare</th>\n",
       "      <th>Age Range</th>\n",
       "    </tr>\n",
       "  </thead>\n",
       "  <tbody>\n",
       "    <tr>\n",
       "      <th>0</th>\n",
       "      <td>0</td>\n",
       "      <td>3</td>\n",
       "      <td>male</td>\n",
       "      <td>22</td>\n",
       "      <td>7.2500</td>\n",
       "      <td>Adulto</td>\n",
       "    </tr>\n",
       "    <tr>\n",
       "      <th>1</th>\n",
       "      <td>1</td>\n",
       "      <td>1</td>\n",
       "      <td>female</td>\n",
       "      <td>38</td>\n",
       "      <td>71.2833</td>\n",
       "      <td>Adulto</td>\n",
       "    </tr>\n",
       "    <tr>\n",
       "      <th>2</th>\n",
       "      <td>1</td>\n",
       "      <td>3</td>\n",
       "      <td>female</td>\n",
       "      <td>26</td>\n",
       "      <td>7.9250</td>\n",
       "      <td>Adulto</td>\n",
       "    </tr>\n",
       "    <tr>\n",
       "      <th>3</th>\n",
       "      <td>1</td>\n",
       "      <td>1</td>\n",
       "      <td>female</td>\n",
       "      <td>35</td>\n",
       "      <td>53.1000</td>\n",
       "      <td>Adulto</td>\n",
       "    </tr>\n",
       "    <tr>\n",
       "      <th>4</th>\n",
       "      <td>0</td>\n",
       "      <td>3</td>\n",
       "      <td>male</td>\n",
       "      <td>35</td>\n",
       "      <td>8.0500</td>\n",
       "      <td>Adulto</td>\n",
       "    </tr>\n",
       "  </tbody>\n",
       "</table>\n",
       "</div>"
      ],
      "text/plain": [
       "   Survived  Pclass     Sex  Age     Fare Age Range\n",
       "0         0       3    male   22   7.2500    Adulto\n",
       "1         1       1  female   38  71.2833    Adulto\n",
       "2         1       3  female   26   7.9250    Adulto\n",
       "3         1       1  female   35  53.1000    Adulto\n",
       "4         0       3    male   35   8.0500    Adulto"
      ]
     },
     "metadata": {},
     "output_type": "display_data"
    }
   ],
   "source": [
    "#Resetando os indexes para a ordem dos dados ficar igual ao dataframe inicial\n",
    "df_titanic_clean = df_titanic_clean.sort_index()\n",
    "display(df_titanic_clean.head())"
   ]
  },
  {
   "cell_type": "code",
   "execution_count": 425,
   "metadata": {},
   "outputs": [
    {
     "data": {
      "text/html": [
       "<div>\n",
       "<style scoped>\n",
       "    .dataframe tbody tr th:only-of-type {\n",
       "        vertical-align: middle;\n",
       "    }\n",
       "\n",
       "    .dataframe tbody tr th {\n",
       "        vertical-align: top;\n",
       "    }\n",
       "\n",
       "    .dataframe thead th {\n",
       "        text-align: right;\n",
       "    }\n",
       "</style>\n",
       "<table border=\"1\" class=\"dataframe\">\n",
       "  <thead>\n",
       "    <tr style=\"text-align: right;\">\n",
       "      <th></th>\n",
       "      <th>Survived</th>\n",
       "      <th>Pclass</th>\n",
       "      <th>Sex</th>\n",
       "      <th>Age</th>\n",
       "      <th>Fare</th>\n",
       "    </tr>\n",
       "  </thead>\n",
       "  <tbody>\n",
       "    <tr>\n",
       "      <th>0</th>\n",
       "      <td>0</td>\n",
       "      <td>3</td>\n",
       "      <td>male</td>\n",
       "      <td>22</td>\n",
       "      <td>7.2500</td>\n",
       "    </tr>\n",
       "    <tr>\n",
       "      <th>1</th>\n",
       "      <td>1</td>\n",
       "      <td>1</td>\n",
       "      <td>female</td>\n",
       "      <td>38</td>\n",
       "      <td>71.2833</td>\n",
       "    </tr>\n",
       "    <tr>\n",
       "      <th>2</th>\n",
       "      <td>1</td>\n",
       "      <td>3</td>\n",
       "      <td>female</td>\n",
       "      <td>26</td>\n",
       "      <td>7.9250</td>\n",
       "    </tr>\n",
       "    <tr>\n",
       "      <th>3</th>\n",
       "      <td>1</td>\n",
       "      <td>1</td>\n",
       "      <td>female</td>\n",
       "      <td>35</td>\n",
       "      <td>53.1000</td>\n",
       "    </tr>\n",
       "    <tr>\n",
       "      <th>4</th>\n",
       "      <td>0</td>\n",
       "      <td>3</td>\n",
       "      <td>male</td>\n",
       "      <td>35</td>\n",
       "      <td>8.0500</td>\n",
       "    </tr>\n",
       "  </tbody>\n",
       "</table>\n",
       "</div>"
      ],
      "text/plain": [
       "   Survived  Pclass     Sex  Age     Fare\n",
       "0         0       3    male   22   7.2500\n",
       "1         1       1  female   38  71.2833\n",
       "2         1       3  female   26   7.9250\n",
       "3         1       1  female   35  53.1000\n",
       "4         0       3    male   35   8.0500"
      ]
     },
     "metadata": {},
     "output_type": "display_data"
    }
   ],
   "source": [
    "#Conferindo se a ordem dos dados se manteve com o dataframe inicial\n",
    "display(df_titanic.head())"
   ]
  },
  {
   "cell_type": "markdown",
   "metadata": {},
   "source": [
    "#### Ajustando os nomes das colunas\n",
    "Iremos agora ajustar os nomes das colunas para um padrão minúsculo e retirando os espaços substituindo eles pelo \"_\"."
   ]
  },
  {
   "cell_type": "code",
   "execution_count": 426,
   "metadata": {},
   "outputs": [
    {
     "data": {
      "text/plain": [
       "Index(['Survived', 'Pclass', 'Sex', 'Age', 'Fare', 'Age Range'], dtype='object')"
      ]
     },
     "metadata": {},
     "output_type": "display_data"
    }
   ],
   "source": [
    "#Nome das colunas iniciais\n",
    "display(df_titanic_clean.columns)"
   ]
  },
  {
   "cell_type": "code",
   "execution_count": 427,
   "metadata": {},
   "outputs": [
    {
     "data": {
      "text/plain": [
       "Index(['survived', 'pclass', 'sex', 'age', 'fare', 'age_range'], dtype='object')"
      ]
     },
     "metadata": {},
     "output_type": "display_data"
    },
    {
     "data": {
      "text/html": [
       "<div>\n",
       "<style scoped>\n",
       "    .dataframe tbody tr th:only-of-type {\n",
       "        vertical-align: middle;\n",
       "    }\n",
       "\n",
       "    .dataframe tbody tr th {\n",
       "        vertical-align: top;\n",
       "    }\n",
       "\n",
       "    .dataframe thead th {\n",
       "        text-align: right;\n",
       "    }\n",
       "</style>\n",
       "<table border=\"1\" class=\"dataframe\">\n",
       "  <thead>\n",
       "    <tr style=\"text-align: right;\">\n",
       "      <th></th>\n",
       "      <th>survived</th>\n",
       "      <th>pclass</th>\n",
       "      <th>sex</th>\n",
       "      <th>age</th>\n",
       "      <th>fare</th>\n",
       "      <th>age_range</th>\n",
       "    </tr>\n",
       "  </thead>\n",
       "  <tbody>\n",
       "    <tr>\n",
       "      <th>0</th>\n",
       "      <td>0</td>\n",
       "      <td>3</td>\n",
       "      <td>male</td>\n",
       "      <td>22</td>\n",
       "      <td>7.2500</td>\n",
       "      <td>Adulto</td>\n",
       "    </tr>\n",
       "    <tr>\n",
       "      <th>1</th>\n",
       "      <td>1</td>\n",
       "      <td>1</td>\n",
       "      <td>female</td>\n",
       "      <td>38</td>\n",
       "      <td>71.2833</td>\n",
       "      <td>Adulto</td>\n",
       "    </tr>\n",
       "    <tr>\n",
       "      <th>2</th>\n",
       "      <td>1</td>\n",
       "      <td>3</td>\n",
       "      <td>female</td>\n",
       "      <td>26</td>\n",
       "      <td>7.9250</td>\n",
       "      <td>Adulto</td>\n",
       "    </tr>\n",
       "    <tr>\n",
       "      <th>3</th>\n",
       "      <td>1</td>\n",
       "      <td>1</td>\n",
       "      <td>female</td>\n",
       "      <td>35</td>\n",
       "      <td>53.1000</td>\n",
       "      <td>Adulto</td>\n",
       "    </tr>\n",
       "    <tr>\n",
       "      <th>4</th>\n",
       "      <td>0</td>\n",
       "      <td>3</td>\n",
       "      <td>male</td>\n",
       "      <td>35</td>\n",
       "      <td>8.0500</td>\n",
       "      <td>Adulto</td>\n",
       "    </tr>\n",
       "  </tbody>\n",
       "</table>\n",
       "</div>"
      ],
      "text/plain": [
       "   survived  pclass     sex  age     fare age_range\n",
       "0         0       3    male   22   7.2500    Adulto\n",
       "1         1       1  female   38  71.2833    Adulto\n",
       "2         1       3  female   26   7.9250    Adulto\n",
       "3         1       1  female   35  53.1000    Adulto\n",
       "4         0       3    male   35   8.0500    Adulto"
      ]
     },
     "metadata": {},
     "output_type": "display_data"
    }
   ],
   "source": [
    "#Função que pega os nomes das colunas passa para letra minuscula e separa espaco por \"_\"\n",
    "def adjustby_lower_and_line(df):\n",
    "    \"\"\"\"\n",
    "    Função que utiliza do método .rename() do pandas para renomear as colunas de um dataframe\n",
    "    Além disso, é usado uma função lambda combinada com os métodos .strip(), .lower() e .replace()\n",
    "    Para retirar os espaços das estremidades, colocar tudo em letra minúscula e substituir os espaços\n",
    "    internos para o \"_\".\n",
    "    Argumentos: df = um dataframe\n",
    "    Retorna: Um dataframe com os nomes das colunas alterados\n",
    "    \"\"\"\n",
    "    new_names = df.rename(columns=lambda x: x.strip().lower().replace(\" \", \"_\"))\n",
    "    return new_names\n",
    "\n",
    "df_titanic_clean = adjustby_lower_and_line(df_titanic_clean)\n",
    "display(df_titanic_clean.columns)\n",
    "display(df_titanic_clean.head())"
   ]
  },
  {
   "cell_type": "markdown",
   "metadata": {},
   "source": [
    "Agora com a limpeza realizada, iremos exportar o banco de dados Titanic limpo para um novo arquivo para começarmos a EDA sobre ele."
   ]
  },
  {
   "cell_type": "code",
   "execution_count": 428,
   "metadata": {},
   "outputs": [],
   "source": [
    "df_titanic_clean.to_csv('titanic_clean.csv', index=False)"
   ]
  },
  {
   "cell_type": "markdown",
   "metadata": {},
   "source": [
    "---"
   ]
  },
  {
   "cell_type": "markdown",
   "metadata": {},
   "source": [
    "### Etapa 3: EDA - Análise Exploratória e Visualização dos Dados\n",
    "\n",
    "Na EDA realizada buscou-se responder as perguntas - hipóteses propostas e verificar se a resposta encontrada faz sentido ao corroborar com a tese de atingirmos nosso objetivo, ou seja, identificar as variáveis que aumentariam a chance de uma pessoa sobreviver ao acidente.                    \n",
    "\n",
    "Em seguida, foi realizado a visualização dos dados para maior clareza e entendimento das perguntas.\n",
    "\n",
    "##### Observação\n",
    "Para realizar uma melhor visualização dos dados, em alguns momentos, a título de aprendizado, foi utilizado uma tabulação dos dados com o método \".crosstabs\" do Pandas."
   ]
  },
  {
   "cell_type": "markdown",
   "metadata": {},
   "source": [
    "#### Análise Geral do Banco de dados\n",
    "\n",
    "No início de nossa EDA, buscamos entender a quantidade de categorias dentro de cada feature:"
   ]
  },
  {
   "cell_type": "code",
   "execution_count": 431,
   "metadata": {},
   "outputs": [
    {
     "data": {
      "text/plain": [
       "Index(['survived', 'pclass', 'sex', 'age', 'fare', 'age_range'], dtype='object')"
      ]
     },
     "execution_count": 431,
     "metadata": {},
     "output_type": "execute_result"
    }
   ],
   "source": [
    "df_titanic_clean.columns"
   ]
  },
  {
   "cell_type": "code",
   "execution_count": 419,
   "metadata": {},
   "outputs": [
    {
     "data": {
      "text/html": [
       "<div>\n",
       "<style scoped>\n",
       "    .dataframe tbody tr th:only-of-type {\n",
       "        vertical-align: middle;\n",
       "    }\n",
       "\n",
       "    .dataframe tbody tr th {\n",
       "        vertical-align: top;\n",
       "    }\n",
       "\n",
       "    .dataframe thead th {\n",
       "        text-align: right;\n",
       "    }\n",
       "</style>\n",
       "<table border=\"1\" class=\"dataframe\">\n",
       "  <thead>\n",
       "    <tr style=\"text-align: right;\">\n",
       "      <th></th>\n",
       "      <th>survived</th>\n",
       "      <th>pclass</th>\n",
       "      <th>age</th>\n",
       "      <th>fare</th>\n",
       "    </tr>\n",
       "  </thead>\n",
       "  <tbody>\n",
       "    <tr>\n",
       "      <th>count</th>\n",
       "      <td>714.000000</td>\n",
       "      <td>714.000000</td>\n",
       "      <td>714.000000</td>\n",
       "      <td>714.000000</td>\n",
       "    </tr>\n",
       "    <tr>\n",
       "      <th>mean</th>\n",
       "      <td>0.406162</td>\n",
       "      <td>2.236695</td>\n",
       "      <td>29.679272</td>\n",
       "      <td>34.694514</td>\n",
       "    </tr>\n",
       "    <tr>\n",
       "      <th>std</th>\n",
       "      <td>0.491460</td>\n",
       "      <td>0.838250</td>\n",
       "      <td>14.536483</td>\n",
       "      <td>52.918930</td>\n",
       "    </tr>\n",
       "    <tr>\n",
       "      <th>min</th>\n",
       "      <td>0.000000</td>\n",
       "      <td>1.000000</td>\n",
       "      <td>0.000000</td>\n",
       "      <td>0.000000</td>\n",
       "    </tr>\n",
       "    <tr>\n",
       "      <th>25%</th>\n",
       "      <td>0.000000</td>\n",
       "      <td>1.000000</td>\n",
       "      <td>20.000000</td>\n",
       "      <td>8.050000</td>\n",
       "    </tr>\n",
       "    <tr>\n",
       "      <th>50%</th>\n",
       "      <td>0.000000</td>\n",
       "      <td>2.000000</td>\n",
       "      <td>28.000000</td>\n",
       "      <td>15.741700</td>\n",
       "    </tr>\n",
       "    <tr>\n",
       "      <th>75%</th>\n",
       "      <td>1.000000</td>\n",
       "      <td>3.000000</td>\n",
       "      <td>38.000000</td>\n",
       "      <td>33.375000</td>\n",
       "    </tr>\n",
       "    <tr>\n",
       "      <th>max</th>\n",
       "      <td>1.000000</td>\n",
       "      <td>3.000000</td>\n",
       "      <td>80.000000</td>\n",
       "      <td>512.329200</td>\n",
       "    </tr>\n",
       "  </tbody>\n",
       "</table>\n",
       "</div>"
      ],
      "text/plain": [
       "         survived      pclass         age        fare\n",
       "count  714.000000  714.000000  714.000000  714.000000\n",
       "mean     0.406162    2.236695   29.679272   34.694514\n",
       "std      0.491460    0.838250   14.536483   52.918930\n",
       "min      0.000000    1.000000    0.000000    0.000000\n",
       "25%      0.000000    1.000000   20.000000    8.050000\n",
       "50%      0.000000    2.000000   28.000000   15.741700\n",
       "75%      1.000000    3.000000   38.000000   33.375000\n",
       "max      1.000000    3.000000   80.000000  512.329200"
      ]
     },
     "metadata": {},
     "output_type": "display_data"
    },
    {
     "name": "stdout",
     "output_type": "stream",
     "text": [
      "0    424\n",
      "1    290\n",
      "Name: survived, dtype: int64\n",
      "3    355\n",
      "1    186\n",
      "2    173\n",
      "Name: pclass, dtype: int64\n",
      "male      453\n",
      "female    261\n",
      "Name: sex, dtype: int64\n",
      "24    31\n",
      "22    27\n",
      "30    27\n",
      "28    27\n",
      "18    26\n",
      "19    25\n",
      "21    24\n",
      "36    23\n",
      "25    23\n",
      "32    20\n",
      "29    20\n",
      "35    18\n",
      "27    18\n",
      "26    18\n",
      "31    17\n",
      "16    17\n",
      "23    16\n",
      "20    16\n",
      "34    16\n",
      "40    15\n",
      "33    15\n",
      "39    14\n",
      "45    14\n",
      "42    13\n",
      "17    13\n",
      "38    11\n",
      "50    10\n",
      "4     10\n",
      "2     10\n",
      "48     9\n",
      "      ..\n",
      "52     6\n",
      "37     6\n",
      "43     5\n",
      "15     5\n",
      "58     5\n",
      "60     4\n",
      "8      4\n",
      "11     4\n",
      "62     4\n",
      "5      4\n",
      "56     4\n",
      "61     3\n",
      "55     3\n",
      "70     3\n",
      "65     3\n",
      "46     3\n",
      "7      3\n",
      "6      3\n",
      "59     2\n",
      "57     2\n",
      "64     2\n",
      "13     2\n",
      "71     2\n",
      "10     2\n",
      "63     2\n",
      "74     1\n",
      "66     1\n",
      "12     1\n",
      "53     1\n",
      "80     1\n",
      "Name: age, Length: 71, dtype: int64\n",
      "13.0000     41\n",
      "26.0000     30\n",
      "8.0500      29\n",
      "10.5000     24\n",
      "7.8958      23\n",
      "7.9250      18\n",
      "7.7750      14\n",
      "7.7500      14\n",
      "26.5500     13\n",
      "7.8542      13\n",
      "8.6625      12\n",
      "7.2500      10\n",
      "7.2292       8\n",
      "9.5000       8\n",
      "31.2750      7\n",
      "0.0000       7\n",
      "26.2500      6\n",
      "39.6875      6\n",
      "16.1000      6\n",
      "21.0000      6\n",
      "46.9000      6\n",
      "27.9000      6\n",
      "7.2250       6\n",
      "14.4542      6\n",
      "7.0500       6\n",
      "7.7958       6\n",
      "29.1250      5\n",
      "24.1500      5\n",
      "52.0000      5\n",
      "73.5000      5\n",
      "            ..\n",
      "8.6542       1\n",
      "47.1000      1\n",
      "7.8792       1\n",
      "9.8417       1\n",
      "9.4750       1\n",
      "13.4167      1\n",
      "14.1083      1\n",
      "8.8500       1\n",
      "12.2750      1\n",
      "211.5000     1\n",
      "40.1250      1\n",
      "50.4958      1\n",
      "10.5167      1\n",
      "12.6500      1\n",
      "133.6500     1\n",
      "51.8625      1\n",
      "9.8375       1\n",
      "8.4042       1\n",
      "8.0292       1\n",
      "22.0250      1\n",
      "22.5250      1\n",
      "81.8583      1\n",
      "61.9792      1\n",
      "34.0208      1\n",
      "8.6833       1\n",
      "7.1417       1\n",
      "32.3208      1\n",
      "13.8583      1\n",
      "15.5500      1\n",
      "8.3625       1\n",
      "Name: fare, Length: 220, dtype: int64\n",
      "Adulto         511\n",
      "Adolescente     70\n",
      "Criança         69\n",
      "Idoso           64\n",
      "Name: age_range, dtype: int64\n"
     ]
    }
   ],
   "source": [
    "#Estatísticas gerais do dataframe\n",
    "display(df_titanic_clean.describe())\n",
    "\n",
    "#Counts por categoria do dataframe\n",
    "def count_categ(df):\n",
    "    \"\"\"\"\n",
    "    Função que utiliza do método .value_counts() combinado com o método .head() para visualizar\n",
    "    a quantidade de valores únicos em cada coluna\n",
    "    Argumentos: df = um dataframe\n",
    "    Retorna: O print dos valores de cada categoria para cada feature\n",
    "    \"\"\"\n",
    "\n",
    "    for columns in df.columns:\n",
    "        print(df[columns].value_counts().head(len(df)))\n",
    "\n",
    "#Avaliação geral dos counts por categoria\n",
    "#count_categ(df_titanic)\n",
    "count_categ(df_titanic_clean)"
   ]
  },
  {
   "cell_type": "markdown",
   "metadata": {},
   "source": [
    "### Exploração dos dados\n",
    "Feito este aparato geral, aprofundamos na experimentação dos dados seguindo como caminho as perguntas propostas"
   ]
  },
  {
   "cell_type": "markdown",
   "metadata": {},
   "source": [
    "#### 1) Qual a frequência e porcentagem dos sobreviventes do naufrágio?\n",
    "Uma pergunta que pode ser explorada por análise direta da coluna ```df_titanic_clean[\"survived\"]```."
   ]
  },
  {
   "cell_type": "code",
   "execution_count": 655,
   "metadata": {},
   "outputs": [
    {
     "data": {
      "text/plain": [
       "(290, 40.61624649859944)"
      ]
     },
     "execution_count": 655,
     "metadata": {},
     "output_type": "execute_result"
    }
   ],
   "source": [
    "#Armazenando os valores pedidos\n",
    "Freq1 = df_titanic_clean[\"survived\"].value_counts()[1]\n",
    "Perc1 = (df_titanic_clean[\"survived\"].value_counts()[1]/df_titanic_clean[\"survived\"].value_counts().sum())*100\n",
    "Freq1,Perc1"
   ]
  },
  {
   "cell_type": "markdown",
   "metadata": {},
   "source": [
    "#### 2) Qual a frequência e proporção do gênero dos sobreviventes? Qual gênero obteve maior chance de sobrevivência?\n",
    "Optou-se por utilizar o método do pandas ```.crosstab()``` pois ela apresenta uma melhor visualização combinada da tabela ao invés do método ```.groupy()``` combinado com o ```.query()```.\n",
    "Análise das colunas ```df_titanic_clean['sex']``` e ```df_titanic_clean['survived']```"
   ]
  },
  {
   "cell_type": "code",
   "execution_count": 441,
   "metadata": {},
   "outputs": [
    {
     "data": {
      "text/html": [
       "<div>\n",
       "<style scoped>\n",
       "    .dataframe tbody tr th:only-of-type {\n",
       "        vertical-align: middle;\n",
       "    }\n",
       "\n",
       "    .dataframe tbody tr th {\n",
       "        vertical-align: top;\n",
       "    }\n",
       "\n",
       "    .dataframe thead th {\n",
       "        text-align: right;\n",
       "    }\n",
       "</style>\n",
       "<table border=\"1\" class=\"dataframe\">\n",
       "  <thead>\n",
       "    <tr style=\"text-align: right;\">\n",
       "      <th></th>\n",
       "      <th>Mulher</th>\n",
       "      <th>Homem</th>\n",
       "      <th>Total</th>\n",
       "    </tr>\n",
       "  </thead>\n",
       "  <tbody>\n",
       "    <tr>\n",
       "      <th>Morreram</th>\n",
       "      <td>64</td>\n",
       "      <td>360</td>\n",
       "      <td>424</td>\n",
       "    </tr>\n",
       "    <tr>\n",
       "      <th>Sobreviveram</th>\n",
       "      <td>197</td>\n",
       "      <td>93</td>\n",
       "      <td>290</td>\n",
       "    </tr>\n",
       "    <tr>\n",
       "      <th>Total</th>\n",
       "      <td>261</td>\n",
       "      <td>453</td>\n",
       "      <td>714</td>\n",
       "    </tr>\n",
       "  </tbody>\n",
       "</table>\n",
       "</div>"
      ],
      "text/plain": [
       "              Mulher  Homem  Total\n",
       "Morreram          64    360    424\n",
       "Sobreviveram     197     93    290\n",
       "Total            261    453    714"
      ]
     },
     "metadata": {},
     "output_type": "display_data"
    },
    {
     "data": {
      "text/html": [
       "<div>\n",
       "<style scoped>\n",
       "    .dataframe tbody tr th:only-of-type {\n",
       "        vertical-align: middle;\n",
       "    }\n",
       "\n",
       "    .dataframe tbody tr th {\n",
       "        vertical-align: top;\n",
       "    }\n",
       "\n",
       "    .dataframe thead th {\n",
       "        text-align: right;\n",
       "    }\n",
       "</style>\n",
       "<table border=\"1\" class=\"dataframe\">\n",
       "  <thead>\n",
       "    <tr style=\"text-align: right;\">\n",
       "      <th></th>\n",
       "      <th>Mulher</th>\n",
       "      <th>Homem</th>\n",
       "      <th>Total</th>\n",
       "    </tr>\n",
       "  </thead>\n",
       "  <tbody>\n",
       "    <tr>\n",
       "      <th>Morreram</th>\n",
       "      <td>8.963585</td>\n",
       "      <td>50.420168</td>\n",
       "      <td>59.383754</td>\n",
       "    </tr>\n",
       "    <tr>\n",
       "      <th>Sobreviveram</th>\n",
       "      <td>27.591036</td>\n",
       "      <td>13.025210</td>\n",
       "      <td>40.616246</td>\n",
       "    </tr>\n",
       "    <tr>\n",
       "      <th>Total</th>\n",
       "      <td>36.554622</td>\n",
       "      <td>63.445378</td>\n",
       "      <td>100.000000</td>\n",
       "    </tr>\n",
       "  </tbody>\n",
       "</table>\n",
       "</div>"
      ],
      "text/plain": [
       "                 Mulher      Homem       Total\n",
       "Morreram       8.963585  50.420168   59.383754\n",
       "Sobreviveram  27.591036  13.025210   40.616246\n",
       "Total         36.554622  63.445378  100.000000"
      ]
     },
     "metadata": {},
     "output_type": "display_data"
    },
    {
     "data": {
      "text/plain": [
       "<matplotlib.axes._subplots.AxesSubplot at 0x11e2e55c0>"
      ]
     },
     "metadata": {},
     "output_type": "display_data"
    },
    {
     "data": {
      "image/png": "[encoded data removed]",
      "text/plain": [
       "<Figure size 432x288 with 1 Axes>"
      ]
     },
     "metadata": {
      "needs_background": "light"
     },
     "output_type": "display_data"
    },
    {
     "data": {
      "image/png": "[encoded data removed]",
      "text/plain": [
       "<Figure size 432x288 with 1 Axes>"
      ]
     },
     "metadata": {},
     "output_type": "display_data"
    }
   ],
   "source": [
    "#Frequência\n",
    "Sobrev_Sex_Freq = pd.crosstab(index=df_titanic_clean[\"survived\"],columns=[df_titanic_clean[\"sex\"]], margins=True)\n",
    "Sobrev_Sex_Freq.columns = [\"Mulher\",\"Homem\",\"Total\"]\n",
    "Sobrev_Sex_Freq.index= [\"Morreram\",\"Sobreviveram\",\"Total\"]\n",
    "display(Sobrev_Sex_Freq)\n",
    "\n",
    "#Porcentagem sobre o total de passageiros\n",
    "SobrevSex_Perc = (Sobrev_Sex_Freq/Sobrev_Sex_Freq.loc[\"Total\",\"Total\"])*100\n",
    "display(SobrevSex_Perc)\n",
    "\n",
    "#Gráfico de Barra para a Frequência\n",
    "display(Sobrev_Sex_Freq.plot(kind='bar',title=\"Frequência do cruzamento Sobreviventes x Gênero\"))\n",
    "\n",
    "#Gráfico de Pizza para a Porcentagem\n",
    "labels = ['Homem', 'Mulher']\n",
    "H = Sobrev_Sex_Freq[\"Homem\"][1] \n",
    "M = Sobrev_Sex_Freq[\"Mulher\"][1] \n",
    "sizes = [H, M]\n",
    "explode = (0, 0.1)\n",
    "fig1, ax1 = plt.subplots()\n",
    "ax1.pie(sizes, explode=explode, labels=labels, autopct='%1.1f%%',shadow=True, startangle=90)\n",
    "ax1.axis('equal') \n",
    "plt.title('Porcentagem de homens e mulheres dentre os sobreviventes')\n",
    "plt.show()"
   ]
  },
  {
   "cell_type": "markdown",
   "metadata": {},
   "source": [
    "#### Informação que pode ser retirada dos gráficos:\n",
    "\n",
    "Pelo gráfico de barra, conseguimos obter visualmente que o gênero que mais morreu foram os homens e quem mais sobreviveu foram as mulheres (fato também comprovado visualmente e de forma direta pelo gráfico de pizza). Isso se confirma por probabilidade dado que em relação ao total, temos mais homens a bordo do que mulheres, então poderia ser mais provável que mais homens morressem mesmo.\n"
   ]
  },
  {
   "cell_type": "markdown",
   "metadata": {},
   "source": [
    "#### 3)  Qual a frequência e proporção da classe dos sobreviventes? Qual classe obteve maior chance de sobrevivência?\n",
    "Análise das colunas ```df_titanic_clean['pclass']``` e ```df_titanic_clean['survived']```"
   ]
  },
  {
   "cell_type": "code",
   "execution_count": 696,
   "metadata": {},
   "outputs": [
    {
     "data": {
      "text/html": [
       "<div>\n",
       "<style scoped>\n",
       "    .dataframe tbody tr th:only-of-type {\n",
       "        vertical-align: middle;\n",
       "    }\n",
       "\n",
       "    .dataframe tbody tr th {\n",
       "        vertical-align: top;\n",
       "    }\n",
       "\n",
       "    .dataframe thead th {\n",
       "        text-align: right;\n",
       "    }\n",
       "</style>\n",
       "<table border=\"1\" class=\"dataframe\">\n",
       "  <thead>\n",
       "    <tr style=\"text-align: right;\">\n",
       "      <th></th>\n",
       "      <th>Primeira</th>\n",
       "      <th>Segunda</th>\n",
       "      <th>Terceira</th>\n",
       "      <th>Total</th>\n",
       "    </tr>\n",
       "  </thead>\n",
       "  <tbody>\n",
       "    <tr>\n",
       "      <th>Morreram</th>\n",
       "      <td>64</td>\n",
       "      <td>90</td>\n",
       "      <td>270</td>\n",
       "      <td>424</td>\n",
       "    </tr>\n",
       "    <tr>\n",
       "      <th>Sobreviveram</th>\n",
       "      <td>122</td>\n",
       "      <td>83</td>\n",
       "      <td>85</td>\n",
       "      <td>290</td>\n",
       "    </tr>\n",
       "    <tr>\n",
       "      <th>Total</th>\n",
       "      <td>186</td>\n",
       "      <td>173</td>\n",
       "      <td>355</td>\n",
       "      <td>714</td>\n",
       "    </tr>\n",
       "  </tbody>\n",
       "</table>\n",
       "</div>"
      ],
      "text/plain": [
       "              Primeira  Segunda  Terceira  Total\n",
       "Morreram            64       90       270    424\n",
       "Sobreviveram       122       83        85    290\n",
       "Total              186      173       355    714"
      ]
     },
     "metadata": {},
     "output_type": "display_data"
    },
    {
     "data": {
      "text/html": [
       "<div>\n",
       "<style scoped>\n",
       "    .dataframe tbody tr th:only-of-type {\n",
       "        vertical-align: middle;\n",
       "    }\n",
       "\n",
       "    .dataframe tbody tr th {\n",
       "        vertical-align: top;\n",
       "    }\n",
       "\n",
       "    .dataframe thead th {\n",
       "        text-align: right;\n",
       "    }\n",
       "</style>\n",
       "<table border=\"1\" class=\"dataframe\">\n",
       "  <thead>\n",
       "    <tr style=\"text-align: right;\">\n",
       "      <th></th>\n",
       "      <th>Primeira</th>\n",
       "      <th>Segunda</th>\n",
       "      <th>Terceira</th>\n",
       "      <th>Total</th>\n",
       "    </tr>\n",
       "  </thead>\n",
       "  <tbody>\n",
       "    <tr>\n",
       "      <th>Morreram</th>\n",
       "      <td>8.963585</td>\n",
       "      <td>12.605042</td>\n",
       "      <td>37.815126</td>\n",
       "      <td>59.383754</td>\n",
       "    </tr>\n",
       "    <tr>\n",
       "      <th>Sobreviveram</th>\n",
       "      <td>17.086835</td>\n",
       "      <td>11.624650</td>\n",
       "      <td>11.904762</td>\n",
       "      <td>40.616246</td>\n",
       "    </tr>\n",
       "    <tr>\n",
       "      <th>Total</th>\n",
       "      <td>26.050420</td>\n",
       "      <td>24.229692</td>\n",
       "      <td>49.719888</td>\n",
       "      <td>100.000000</td>\n",
       "    </tr>\n",
       "  </tbody>\n",
       "</table>\n",
       "</div>"
      ],
      "text/plain": [
       "               Primeira    Segunda   Terceira       Total\n",
       "Morreram       8.963585  12.605042  37.815126   59.383754\n",
       "Sobreviveram  17.086835  11.624650  11.904762   40.616246\n",
       "Total         26.050420  24.229692  49.719888  100.000000"
      ]
     },
     "metadata": {},
     "output_type": "display_data"
    },
    {
     "data": {
      "image/png": "[encoded data removed]",
      "text/plain": [
       "<Figure size 360x216 with 1 Axes>"
      ]
     },
     "metadata": {
      "needs_background": "light"
     },
     "output_type": "display_data"
    },
    {
     "data": {
      "image/png": "[encoded data removed]",
      "text/plain": [
       "<Figure size 360x216 with 1 Axes>"
      ]
     },
     "metadata": {},
     "output_type": "display_data"
    }
   ],
   "source": [
    "#Frequência\n",
    "Sobrev_Class_Freq = pd.crosstab(index=df_titanic_clean[\"survived\"],columns=[df_titanic_clean[\"pclass\"]], margins=True)\n",
    "Sobrev_Class_Freq.columns = [\"Primeira\",\"Segunda\",\"Terceira\",\"Total\"]\n",
    "Sobrev_Class_Freq.index= [\"Morreram\",\"Sobreviveram\",\"Total\"]\n",
    "display(Sobrev_Class_Freq)\n",
    "#Porcentagem sobre o total de passageiros\n",
    "Sobrev_Class_Perc = (Sobrev_Class_Freq/Sobrev_Class_Freq.loc[\"Total\",\"Total\"])*100\n",
    "display(Sobrev_Class_Perc)\n",
    "\n",
    "#Gráfico de Barra para a Frequência\n",
    "Sobrev_Class_Freq.plot(kind='bar',title=\"Frequência do cruzamento Sobreviventes x Gênero\")\n",
    "\n",
    "#Gráfico de Pizza para a Porcentagem\n",
    "labels = ['Primeira', 'Segunda', 'Terceira']\n",
    "P = Sobrev_Class_Freq[\"Primeira\"][1]\n",
    "S = Sobrev_Class_Freq[\"Segunda\"][1] \n",
    "T = Sobrev_Class_Freq[\"Terceira\"][1] \n",
    "sizes = [H, M, T]\n",
    "explode = (0.1, 0, 0.1)\n",
    "fig1, ax1 = plt.subplots()\n",
    "ax1.pie(sizes, explode=explode, labels=labels, autopct='%1.1f%%',shadow=True, startangle=90)\n",
    "ax1.axis('equal') \n",
    "plt.title('Porcentagem de cada classe dentre os sobreviventes')\n",
    "plt.show()"
   ]
  },
  {
   "cell_type": "markdown",
   "metadata": {},
   "source": [
    "#### Informação que pode ser retirada dos gráficos:\n",
    "\n",
    "Pelo gráfico de barra, conseguimos obter visualmente que a classe que mais morreu foi a terceira e a que mais sobreviveu foi a primeira (fato também comprovado visualmente e de forma direta pelo gráfico de pizza). Isso se confirma por probabilidade dado que em relação ao total, temos pessoas de terceira classe a bordo do que de primeira, então poderia ser mais provável que mais pessoas da terceira classe morressem mesmo.\n",
    "\n"
   ]
  },
  {
   "cell_type": "markdown",
   "metadata": {},
   "source": [
    "#### 4)  Qual a frequência e proporção da gênero+classe dos sobreviventes? Qual combinação obteve maior chance de sobrevivência?\n",
    "Nessa pergunta, o caminho foi misto, uma combinação das colunas ```df_titanic_clean['sex']``` com a coluna ```df_titanic_clean['pclass']``` interagindo com a coluna ```df_titanic_clean['survived']```"
   ]
  },
  {
   "cell_type": "code",
   "execution_count": 653,
   "metadata": {},
   "outputs": [
    {
     "data": {
      "text/plain": [
       "pclass  sex   \n",
       "1       female    82\n",
       "        male      40\n",
       "2       female    68\n",
       "        male      15\n",
       "3       female    47\n",
       "        male      38\n",
       "Name: survived, dtype: int64"
      ]
     },
     "metadata": {},
     "output_type": "display_data"
    },
    {
     "data": {
      "text/plain": [
       "pclass  sex   \n",
       "1       female    11.484594\n",
       "        male       5.602241\n",
       "2       female     9.523810\n",
       "        male       2.100840\n",
       "3       female     6.582633\n",
       "        male       5.322129\n",
       "Name: survived, dtype: float64"
      ]
     },
     "metadata": {},
     "output_type": "display_data"
    },
    {
     "data": {
      "image/png": "[encoded data removed]",
      "text/plain": [
       "<Figure size 360x216 with 1 Axes>"
      ]
     },
     "metadata": {
      "needs_background": "light"
     },
     "output_type": "display_data"
    },
    {
     "data": {
      "image/png": "[encoded data removed]",
      "text/plain": [
       "<Figure size 360x216 with 3 Axes>"
      ]
     },
     "metadata": {},
     "output_type": "display_data"
    }
   ],
   "source": [
    "#Frequência da amostra combinada entre gênero e classe dos sobreviventes\n",
    "display(df_titanic_clean.query('survived == 1').groupby(['pclass','sex'])['survived'].count())\n",
    "#Proporção da amostra combinada entre gênero e classe dos sobreviventes\n",
    "display((df_titanic_clean.query('survived == 1').groupby(['pclass','sex'])['survived'].count()/df_titanic_clean.shape[0])*100)\n",
    "\n",
    "#Gráfico de Barra para a Frequência combinada de gênero e classe dos sobreviventes\n",
    "#Variáveis de count para cada caso\n",
    "[HC1,HC2,HC3] = [df_titanic_clean.query('survived == 1').groupby(['pclass','sex'])['survived'].count()[1][\"male\"], df_titanic_clean.query('survived == 1').groupby(['pclass','sex'])['survived'].count()[2][\"male\"], df_titanic_clean.query('survived == 1').groupby(['pclass','sex'])['survived'].count()[3][\"male\"]]\n",
    "[MC1,MC2,MC3] = [df_titanic_clean.query('survived == 1').groupby(['pclass','sex'])['survived'].count()[1][\"female\"],df_titanic_clean.query('survived == 1').groupby(['pclass','sex'])['survived'].count()[2][\"female\"],df_titanic_clean.query('survived == 1').groupby(['pclass','sex'])['survived'].count()[3][\"female\"]]\n",
    "homem = [HC1,HC2,HC3] # contagem de homens entre (primeira, segunda e terceira classes)\n",
    "mulher = [MC1,MC2,MC3] # contagem de mulheres entre (primeira, segunda e terceira classes)\n",
    "categoria = ['Primeira', 'Segunda', 'Terceira']\n",
    "#Posições e distância das barras\n",
    "pos = np.arange(3) \n",
    "tam = .3 \n",
    "#Plotagem das barras\n",
    "fig, ax = plt.subplots()\n",
    "plt1 = ax.bar(pos-tam/2, homem, tam, color='blue', label='Homem')\n",
    "plt2 = ax.bar(pos+tam/2, mulher, tam, color='red', label='Mulher')\n",
    "#Títulos e Rótulos\n",
    "ax.set_title('Contagem de homens e mulheres de 1, 2 e 3 Classes')\n",
    "ax.set_xlabel('Classe')\n",
    "ax.set_ylabel('Contagem de pessoas')\n",
    "# Define as posições dos ticks\n",
    "ax.set_xticks(pos) \n",
    "ax.set_xticklabels(categoria, rotation=45, ha='right') \n",
    "ax.legend();\n",
    "\n",
    "#Gráfico de Pizza para a Proporção combinada de gênero e classe dos sobreviventes\n",
    "ProporcaoGC = ((df_titanic_clean.query('survived == 1').groupby(['pclass','sex'])['survived'].count()/df_titanic_clean.shape[0])*100)\n",
    "\n",
    "#Labels e Variáveis de Proporção para cada caso\n",
    "labels = ['Homem', 'Mulher']\n",
    "HPC1 = ProporcaoGC[1][\"male\"]\n",
    "MPC1 = ProporcaoGC[1][\"female\"]\n",
    "HPC2 = ProporcaoGC[2][\"male\"]\n",
    "MPC2 = ProporcaoGC[2][\"female\"]\n",
    "HPC3 = ProporcaoGC[3][\"male\"]\n",
    "MPC3 = ProporcaoGC[3][\"female\"]\n",
    "sizes1 = [HPC1, MPC1]\n",
    "sizes2 = [HPC2, MPC2]\n",
    "sizes3 = [HPC3, MPC3]\n",
    "explode = (0, 0.1)\n",
    "#Figuras para cada classe\n",
    "fig = plt.figure()\n",
    "ax1 = fig.add_axes([0, 0, 1, 1], aspect=1)\n",
    "ax1.pie(sizes1, explode=explode, labels=labels, autopct='%1.1f%%',shadow=True, startangle=90)\n",
    "plt.xlabel('Classe 1')\n",
    "ax2 = fig.add_axes([1, 0,1, 1], aspect=1)\n",
    "ax2.pie(sizes2, explode=explode, labels=labels, autopct='%1.1f%%',shadow=True, startangle=90)\n",
    "plt.xlabel('Classe 2')\n",
    "plt.title('Porcentagem de homens e mulheres dentre as classes dos sobreviventes')\n",
    "ax3 = fig.add_axes([2, 0, 1, 1], aspect=1)\n",
    "ax3.pie(sizes3, explode=explode, labels=labels, autopct='%1.1f%%',shadow=True, startangle=90)\n",
    "plt.xlabel('Classe 3')\n",
    "\n",
    "plt.show()"
   ]
  },
  {
   "cell_type": "markdown",
   "metadata": {},
   "source": [
    "#### Informação que pode ser retirada dos gráficos:\n",
    "\n",
    "Podemos observar de maneira direta pelos gráficos de pizza, a relação de gênero x classe, ou seja, qual gênero mais sobreviveu dentre cada classe. \n",
    "\n",
    "Já no caso do gráfico de barra, conseguimos obter visualmente o grupo que obteve maior chance de sobreviver em relação aos outros grupos, e no caso, tivemos que as as mulheres de primeira classe foi a combinação que mais sobreviveu por ter uma quantidade de pessoas maior que as outras combinações."
   ]
  },
  {
   "cell_type": "markdown",
   "metadata": {},
   "source": [
    "#### 5)  Qual a idade média dos sobreviventes homens e mulheres da primeira, segunda e terceira classe?\n",
    "\n",
    "Novamente um caminho combinado das colunas ```df_titanic_clean['sex']``` com a coluna ```df_titanic_clean['pclass']``` visualizando a coluna ```df_titanic_clean['age']``` dado uma seleção de linhas das pessoas que sobreviveram da coluna ```df_titanic_clean['survived']```"
   ]
  },
  {
   "cell_type": "code",
   "execution_count": 660,
   "metadata": {},
   "outputs": [
    {
     "data": {
      "text/plain": [
       "pclass  sex   \n",
       "1       female    34.939024\n",
       "        male      36.225000\n",
       "2       female    28.073529\n",
       "        male      15.866667\n",
       "3       female    19.297872\n",
       "        male      22.263158\n",
       "Name: age, dtype: float64"
      ]
     },
     "metadata": {},
     "output_type": "display_data"
    }
   ],
   "source": [
    "display(df_titanic_clean.query('survived == 1').groupby(['pclass','sex'])['age'].mean())"
   ]
  },
  {
   "cell_type": "markdown",
   "metadata": {},
   "source": [
    "#### 6)  Qual o preço médio pago no passagem pelos sobreviventes de primeira, segunda e terceira classe? \n",
    "Por fim, um caminho combinado das colunas ```df_titanic_clean['sex']``` com a coluna ```df_titanic_clean['pclass']``` visualizando a coluna ```df_titanic_clean['fare']``` dado uma seleção de linhas das pessoas que sobreviveram da coluna ```df_titanic_clean['survived']```"
   ]
  },
  {
   "cell_type": "code",
   "execution_count": 661,
   "metadata": {},
   "outputs": [
    {
     "data": {
      "text/plain": [
       "pclass  sex   \n",
       "1       female    107.849035\n",
       "        male       80.160735\n",
       "2       female     22.277635\n",
       "        male       22.116947\n",
       "3       female     12.834043\n",
       "        male       14.069626\n",
       "Name: fare, dtype: float64"
      ]
     },
     "metadata": {},
     "output_type": "display_data"
    }
   ],
   "source": [
    "display(df_titanic_clean.query('survived == 1').groupby(['pclass','sex'])['fare'].mean())"
   ]
  },
  {
   "cell_type": "markdown",
   "metadata": {},
   "source": [
    "----"
   ]
  },
  {
   "cell_type": "markdown",
   "metadata": {},
   "source": [
    "### Etapa 4 e 5: Tirar conclusões e comunicar os resultados\n",
    "\n",
    "Após a etapa da análise exploratória dos dados, e com o auxílio dos resultados das perguntas propostas, foi possível obter insights sobre os dados para podermos tirar certas conclusões de quem obteve maiores chances de ter sobrevivido ao naufrágio.\n",
    "\n",
    "Com isso, seguiremos o caminha das respostas das perguntas para conseguirmos objetivamente apresentar as conclusões necessárias para comunicarmos o resultado."
   ]
  },
  {
   "cell_type": "markdown",
   "metadata": {},
   "source": [
    "#### 1) Conslusão: No total menos da metade das pessoas sobreviveram ao naufrágio\n",
    "Com a análise direta da coluna ```df_titanic_clean[\"survived\"]``` foi possível chegar nessa conclusão conclusão."
   ]
  },
  {
   "cell_type": "code",
   "execution_count": 657,
   "metadata": {},
   "outputs": [
    {
     "name": "stdout",
     "output_type": "stream",
     "text": [
      "A frequência de sobreviventes é: 290\n",
      "A porcentagem de sobreviventes é: 40.61624649859944\n"
     ]
    }
   ],
   "source": [
    "#Resposta da pergunta 1\n",
    "print(\"A frequência de sobreviventes é: {0}\\nA porcentagem de sobreviventes é: {1}\".format(Freq1,Perc1))            "
   ]
  },
  {
   "cell_type": "markdown",
   "metadata": {},
   "source": [
    "#### 2) Conslusão: O gênero com maior probabilidade de sobreviver foram as mulheres\n",
    "Com a análise multivariada e combinada das colunas ```df_titanic_clean[\"sex\"]``` e ```df_titanic_clean[\"survived\"]``` foi possível chegar nessa conclusão conclusão."
   ]
  },
  {
   "cell_type": "code",
   "execution_count": 665,
   "metadata": {},
   "outputs": [
    {
     "name": "stdout",
     "output_type": "stream",
     "text": [
      "A frequência das mulheres que sobreviveram foi de: 197 representando 27.591036414565828% dos sobreviventes\n",
      "A frequência dos homens que sobreviveram foi de: 93 representando 13.025210084033615% dos sobreviventes\n"
     ]
    }
   ],
   "source": [
    "#Resposta da pergunta 2\n",
    "print(\"A frequência das mulheres que sobreviveram foi de: {0} representando {1}% dos sobreviventes\".format(Sobrev_Sex_Freq[\"Mulher\"][1], SobrevSex_Perc[\"Mulher\"][1]))\n",
    "print(\"A frequência dos homens que sobreviveram foi de: {0} representando {1}% dos sobreviventes\".format(Sobrev_Sex_Freq[\"Homem\"][1], SobrevSex_Perc[\"Homem\"][1]))"
   ]
  },
  {
   "cell_type": "markdown",
   "metadata": {},
   "source": [
    "#### 3) Conslusão: A classe com maior probabilidade de sobreviver foi a primeira classe\n",
    "Com a análise multivariada e combinada das colunas ```df_titanic_clean[\"pclass\"]``` e ```df_titanic_clean[\"survived\"]``` foi possível chegar nessa conclusão conclusão."
   ]
  },
  {
   "cell_type": "code",
   "execution_count": 667,
   "metadata": {},
   "outputs": [
    {
     "name": "stdout",
     "output_type": "stream",
     "text": [
      "A frequência da primeira classe que sobreviveram foi de: 122 representando 17.086834733893557% dos sobreviventes\n",
      "A frequência da segunda classe que sobreviveram foi de: 83 representando 11.624649859943977% dos sobreviventes\n",
      "A frequência da terceira classe que sobreviveram foi de: 85 representando 11.904761904761903% dos sobreviventes\n"
     ]
    }
   ],
   "source": [
    "#Resposta da pergunta 3\n",
    "print(\"A frequência da primeira classe que sobreviveram foi de: {0} representando {1}% dos sobreviventes\".format(Sobrev_Class_Freq[\"Primeira\"][1], Sobrev_Class_Perc[\"Primeira\"][1]))\n",
    "print(\"A frequência da segunda classe que sobreviveram foi de: {0} representando {1}% dos sobreviventes\".format(Sobrev_Class_Freq[\"Segunda\"][1], Sobrev_Class_Perc[\"Segunda\"][1]))\n",
    "print(\"A frequência da terceira classe que sobreviveram foi de: {0} representando {1}% dos sobreviventes\".format(Sobrev_Class_Freq[\"Terceira\"][1], Sobrev_Class_Perc[\"Terceira\"][1]))"
   ]
  },
  {
   "cell_type": "markdown",
   "metadata": {},
   "source": [
    "#### 4) Conslusão: A combinação que obteve a maior chance de sobrevivência foram as mulheres da primeira classe com 11.4%\n",
    "Com a análise multivariada e combinada das colunas ```df_titanic_clean[\"sex\"]```,```df_titanic_clean[\"pclass\"]``` e ```df_titanic_clean[\"survived\"]``` foi possível chegar nessa conclusão conclusão."
   ]
  },
  {
   "cell_type": "code",
   "execution_count": 681,
   "metadata": {},
   "outputs": [
    {
     "name": "stdout",
     "output_type": "stream",
     "text": [
      "A frequência das mulheres sobreviventes de primeira classe foi de 82 representando 11.484593837535014 do total\n",
      "A frequência dos homens sobreviventes de primeira classe foi de 40 representando 5.602240896358544 do total\n",
      "A frequência das mulheres sobreviventes de segunda classe foi de 68 representando 9.523809523809524 do total\n",
      "A frequência dos homens sobreviventes de segunda classe foi de 15 representando 2.100840336134454 do total\n",
      "A frequência das mulheres sobreviventes de terceira classe foi de 47 representando 6.582633053221289 do total\n",
      "A frequência dos homens sobreviventes de terceira classe foi de 38 representando 5.322128851540616 do total\n"
     ]
    }
   ],
   "source": [
    "#Resposta da pergunta 4\n",
    "Freq4 = df_titanic_clean.query('survived == 1').groupby(['pclass','sex'])['survived'].count()\n",
    "Perc4 = (df_titanic_clean.query('survived == 1').groupby(['pclass','sex'])['survived'].count()/df_titanic_clean.shape[0])*100\n",
    "\n",
    "print(\"A frequência das mulheres sobreviventes de primeira classe foi de {0} representando {1} do total\".format(Freq4[1][\"female\"], Perc4[1][\"female\"]))\n",
    "print(\"A frequência dos homens sobreviventes de primeira classe foi de {0} representando {1} do total\".format(Freq4[1][\"male\"], Perc4[1][\"male\"]))\n",
    "print(\"A frequência das mulheres sobreviventes de segunda classe foi de {0} representando {1} do total\".format(Freq4[2][\"female\"], Perc4[2][\"female\"]))\n",
    "print(\"A frequência dos homens sobreviventes de segunda classe foi de {0} representando {1} do total\".format(Freq4[2][\"male\"], Perc4[2][\"male\"]))\n",
    "print(\"A frequência das mulheres sobreviventes de terceira classe foi de {0} representando {1} do total\".format(Freq4[3][\"female\"], Perc4[3][\"female\"]))\n",
    "print(\"A frequência dos homens sobreviventes de terceira classe foi de {0} representando {1} do total\".format(Freq4[3][\"male\"], Perc4[3][\"male\"]))"
   ]
  },
  {
   "cell_type": "markdown",
   "metadata": {},
   "source": [
    "#### 5) Conslusão: A idade média do grupo com maior probabilidade de sobrevivência foi de 34.9 anos\n",
    "#### Insight: A média de idade do grupo que mais morreu foram de homens de 15.8 anos representando um público bem jovem e a mais baixa de todas\n",
    "Com a combinação das colunas ```df_titanic_clean['sex']```, ```df_titanic_clean['pclass']``` visualizando a coluna ```df_titanic_clean['age']``` conseguimos obter a informação dada prévia seleção dos sobreviventes."
   ]
  },
  {
   "cell_type": "code",
   "execution_count": 692,
   "metadata": {},
   "outputs": [
    {
     "name": "stdout",
     "output_type": "stream",
     "text": [
      "A idade média das mulheres sobreviventes de primeira classe foi de 34.9390243902439\n",
      "A idade média dos homens sobreviventes de primeira classe foi de 36.225\n",
      "A idade média das mulheres sobreviventes de segunda classe foi de 28.073529411764707\n",
      "A idade média dos homens sobreviventes de segunda classe foi de 15.866666666666667\n",
      "A idade média das mulheres sobreviventes de terceira classe foi de 19.29787234042553\n",
      "A idade média dos homens sobreviventes de terceira classe foi de 22.263157894736842\n"
     ]
    }
   ],
   "source": [
    "#Resposta da pergunta 5\n",
    "id_med = df_titanic_clean.query('survived == 1').groupby(['pclass','sex'])['age'].mean()\n",
    "\n",
    "print(\"A idade média das mulheres sobreviventes de primeira classe foi de {0}\".format(id_med[1][\"female\"]))\n",
    "print(\"A idade média dos homens sobreviventes de primeira classe foi de {0}\".format(id_med[1][\"male\"]))\n",
    "print(\"A idade média das mulheres sobreviventes de segunda classe foi de {0}\".format(id_med[2][\"female\"]))\n",
    "print(\"A idade média dos homens sobreviventes de segunda classe foi de {0}\".format(id_med[2][\"male\"]))\n",
    "print(\"A idade média das mulheres sobreviventes de terceira classe foi de {0}\".format(id_med[3][\"female\"]))\n",
    "print(\"A idade média dos homens sobreviventes de terceira classe foi de {0}\".format(id_med[3][\"male\"]))"
   ]
  },
  {
   "cell_type": "markdown",
   "metadata": {},
   "source": [
    "#### 6) Conslusão: O preço médio do ticket do grupo com maior probabilidade de sobrevivência foi de 107.84 dólares\n",
    "#### Insight: Justamente o público que mais sobreviveu (mulheres de primeira classe) foram as pessoas que mais pagaram pela passagem.\n",
    "\n",
    "Com a combinação das colunas ```df_titanic_clean['sex']```, ```df_titanic_clean['pclass']``` visualizando a coluna ```df_titanic_clean['fare']``` conseguimos obter a informação dada prévia seleção dos sobreviventes."
   ]
  },
  {
   "cell_type": "code",
   "execution_count": 695,
   "metadata": {},
   "outputs": [
    {
     "name": "stdout",
     "output_type": "stream",
     "text": [
      "O preço médio das mulheres sobreviventes de primeira classe foi de 107.84903536585364\n",
      "O preço médio dos homens sobreviventes de primeira classe foi de 80.16073500000002\n",
      "O preço médio das mulheres sobreviventes de segunda classe foi de 22.277635294117648\n",
      "O preço médio dos homens sobreviventes de segunda classe foi de 22.116946666666664\n",
      "O preço médio das mulheres sobreviventes de terceira classe foi de 12.834042553191491\n",
      "O preço médio dos homens sobreviventes de terceira classe foi de 14.069626315789478\n"
     ]
    }
   ],
   "source": [
    "#Resposta da pergunta 6\n",
    "preco_med = df_titanic_clean.query('survived == 1').groupby(['pclass','sex'])['fare'].mean()\n",
    "\n",
    "print(\"O preço médio das mulheres sobreviventes de primeira classe foi de {0}\".format(preco_med[1][\"female\"]))\n",
    "print(\"O preço médio dos homens sobreviventes de primeira classe foi de {0}\".format(preco_med[1][\"male\"]))\n",
    "print(\"O preço médio das mulheres sobreviventes de segunda classe foi de {0}\".format(preco_med[2][\"female\"]))\n",
    "print(\"O preço médio dos homens sobreviventes de segunda classe foi de {0}\".format(preco_med[2][\"male\"]))\n",
    "print(\"O preço médio das mulheres sobreviventes de terceira classe foi de {0}\".format(preco_med[3][\"female\"]))\n",
    "print(\"O preço médio dos homens sobreviventes de terceira classe foi de {0}\".format(preco_med[3][\"male\"]))"
   ]
  },
  {
   "cell_type": "markdown",
   "metadata": {},
   "source": [
    "### Problemas encontrados\n",
    "\n",
    "Um dos problemas encontrados foi na coluna da cabine a ```df_titanic[\"Cabin\"]``` onde devido uma falta substancial de informações com várias linhas nulas, ela teve de ser infelizmente removida, pois talvez seria possível realizar a identificação da zona onde a pessoa estava inserida no navio e mapear os locais mais seguros do Titanic dado ao acidente de naufrágio, porém, sua análise foi impossibilitada.\n",
    "\n",
    "Outro problema, que gerou certa dor de cabeça foi a coluna ```df_titanic[\"Age\"]``` que possuia alguns elementos faltantes do tipo NaN, e alguns números fora do padrão int, mas nada que não podesse ser limpo e posteriormente analisado.\n",
    "\n"
   ]
  },
  {
   "cell_type": "markdown",
   "metadata": {},
   "source": [
    "## Bibliografia\n",
    "\n",
    "Escreva os links que vocês usaram para escrever esse projeto."
   ]
  },
  {
   "cell_type": "markdown",
   "metadata": {},
   "source": [
    "[1. https://pt.wikipedia.org/wiki/RMS_Titanic](https://pt.wikipedia.org/wiki/RMS_Titanic)\n",
    "\n",
    "[2. https://guides.github.com/features/mastering-markdown](https://guides.github.com/features/mastering-markdown/)\n",
    "\n",
    "[3. http://hamelg.blogspot.com/2015/11/python-for-data-analysis-part-19_17.html](http://hamelg.blogspot.com/2015/11/python-for-data-analysis-part-19_17.html)\n",
    "\n",
    "[4. https://matplotlib.org/api/_as_gen/matplotlib.pyplot.pie.html](https://matplotlib.org/api/_as_gen/matplotlib.pyplot.pie.html)\n",
    "\n",
    "[5. https://matplotlib.org/api/_as_gen/matplotlib.pyplot.bar.html](https://matplotlib.org/api/_as_gen/matplotlib.pyplot.bar.html)"
   ]
  }
 ],
 "metadata": {
  "kernelspec": {
   "display_name": "Python 3",
   "language": "python",
   "name": "python3"
  },
  "language_info": {
   "codemirror_mode": {
    "name": "ipython",
    "version": 3
   },
   "file_extension": ".py",
   "mimetype": "text/x-python",
   "name": "python",
   "nbconvert_exporter": "python",
   "pygments_lexer": "ipython3",
   "version": "3.7.2"
  }
 },
 "nbformat": 4,
 "nbformat_minor": 2
}
